{
 "cells": [
  {
   "cell_type": "markdown",
   "metadata": {},
   "source": [
    "# Working With Files and Doing Data Cleaning"
   ]
  },
  {
   "cell_type": "markdown",
   "metadata": {},
   "source": [
    "## First, a Review on Planning Your Programs\n",
    "\n",
    "One of the most difficult things about learning to program is to learn how to start.  What to do before you write the code, and how to work your way through the coding process.\n",
    "\n",
    "A good general idea is to think through the problem you want to solve first -- just conceptually.  How will you know you have solved it?  Are there tests that you can use to be sure?  Can you break the problem down into smaller components, and solve those sequentially?  This is a step that is conceptualizing your algorithm, or your plan for the code.\n",
    "\n",
    "What approach would you use to solve each of those components? Can you describe those steps in English? We call this step writing 'pseudo-code'\n",
    "\n",
    "Finally, there is the coding step. And the inevitable debugging step.  You really can't do one without the other.\n",
    "\n",
    "Generally, it is good practice to work your way through problems in this way, and write the code for each building block, testing it to be sure it works for all the kinds of cases you can imagine, then test them together.  You'll end up being more productive, and far less frustrated, using a systematic, problem-solving approach.  \n",
    "\n",
    "And by all means, don't try to tackle it all at once.  Below is an example of how to work through this process."
   ]
  },
  {
   "cell_type": "markdown",
   "metadata": {},
   "source": [
    "### Phase 1: Conceptual Plan\n",
    "\n",
    "What do we need to do to determine whether each number between 1 and 100 is a prime number?\n",
    "\n",
    "1. We need to see if any given number can be divided evenly by any other number besides 1 and itself. \n",
    "2. We need to test this for every number between 1 and 100\n",
    "\n",
    "### Phase 2: Pseudo-Code\n",
    "\n",
    "1. Write a function (isprime) to test whether a number passed to it as an argument (x) is a prime number.\n",
    "Iterate over all values from x to 1.\n",
    "At each iteration, test whether the original x is evenly divisible by this iteration value.\n",
    "Keep track of how many times you get an evenly divisible result.\n",
    "If the result is more than 2, call x a prime number.\n",
    "\n",
    "2. Write a loop from 1 to 100, call this value (z)\n",
    "Within the loop, call function isprime, and pass it the value of z.\n",
    "Print the list of prime numbers.\n",
    "\n",
    "### Phase 3: Code Incrementally, Test, and Document\n",
    "\n",
    "Generally, build the code one step at a time, and test that step.  Add comments to explain your logic.  Make sure you include narrative in your assignments explaining your reasoning, and adding explanatory comments in the code every few lines to explain what you are doing in each part."
   ]
  },
  {
   "cell_type": "markdown",
   "metadata": {},
   "source": [
    "## Working With Files\n",
    "\n",
    "Most data you might want to work with is likely to be in some kind of file.  You often will want to work with data in comma separated text files, or in spreadsheet tables, or in tables stored in a database.  And you will increasingly find data online, not only as text or spreadsheets to download, but as Open Data APIs, returned from a web service as a JSON object.  This session covers how to work with a variety of file formats in Python, and how to begin processing data in files to clean data."
   ]
  },
  {
   "cell_type": "markdown",
   "metadata": {},
   "source": [
    "### Basics of Reading and Writing Files in Python\n",
    "\n",
    "Let's start by creating a simple file, and then reading it back.  We will use 'open' to open a file we will call 'tempfile' in 'write' (w) mode.  We will assign the file object, which is **iterable**, to an object we will arbitrarily call 'f'."
   ]
  },
  {
   "cell_type": "code",
   "execution_count": 6,
   "metadata": {},
   "outputs": [],
   "source": [
    "f = open('tempfile.txt', 'w')\n",
    "for i in range(10):\n",
    "    f.write('this is line ' + str(i) + '\\n')\n",
    "f.close()"
   ]
  },
  {
   "cell_type": "code",
   "execution_count": 16,
   "metadata": {},
   "outputs": [
    {
     "name": "stdout",
     "output_type": "stream",
     "text": [
      "Prime numbers between 1 and 100 are:\n",
      "2\n",
      "3\n",
      "5\n",
      "7\n",
      "11\n",
      "13\n",
      "17\n",
      "19\n",
      "23\n",
      "29\n",
      "31\n",
      "37\n",
      "41\n",
      "43\n",
      "47\n",
      "53\n",
      "59\n",
      "61\n",
      "67\n",
      "71\n",
      "73\n",
      "79\n",
      "83\n",
      "89\n",
      "97\n"
     ]
    }
   ],
   "source": [
    "lower = 1\n",
    "upper = 100\n",
    "print(\"Prime numbers between\",lower,\"and\",upper,\"are:\")\n",
    "\n",
    "for num in range(lower,upper + 1):\n",
    "   # prime numbers are greater than 1\n",
    "   if num > 1:\n",
    "       for i in range(2,num):\n",
    "           if (num % i) == 0:\n",
    "               break\n",
    "       else:\n",
    "           print(num)"
   ]
  },
  {
   "cell_type": "code",
   "execution_count": 26,
   "metadata": {},
   "outputs": [
    {
     "name": "stdout",
     "output_type": "stream",
     "text": [
      "2\n",
      "3\n",
      "5\n",
      "7\n",
      "11\n",
      "13\n",
      "17\n",
      "19\n",
      "23\n",
      "29\n",
      "31\n",
      "37\n",
      "41\n",
      "43\n",
      "47\n",
      "53\n",
      "59\n",
      "61\n",
      "67\n",
      "71\n",
      "73\n",
      "79\n",
      "83\n",
      "89\n",
      "97\n"
     ]
    }
   ],
   "source": [
    " # prime numbers are greater than 1\n",
    "lower = 2\n",
    "upper = 100\n",
    "\n",
    "for num in range(lower,upper):\n",
    "    for i in range(2,num):\n",
    "           if (num % i) == 0:\n",
    "               break\n",
    "    else:\n",
    "           print(num)"
   ]
  },
  {
   "cell_type": "code",
   "execution_count": 30,
   "metadata": {},
   "outputs": [
    {
     "name": "stdout",
     "output_type": "stream",
     "text": [
      "[2, 3, 5, 7, 11, 13, 17, 19, 23, 29, 31, 37, 41, 43, 47, 53, 59, 61, 67, 71, 73, 79, 83, 89, 97, 101, 103, 107, 109, 113, 127, 131, 137, 139, 149, 151, 157, 163, 167, 173, 179, 181, 191, 193, 197, 199, 211, 223, 227, 229, 233, 239, 241, 251, 257, 263, 269, 271, 277, 281, 283, 293, 307, 311, 313, 317, 331, 337, 347, 349, 353, 359, 367, 373, 379, 383, 389, 397, 401, 409, 419, 421, 431, 433, 439, 443, 449, 457, 461, 463, 467, 479, 487, 491, 499, 503, 509, 521, 523, 541, 547, 557, 563, 569, 571, 577, 587, 593, 599, 601, 607, 613, 617, 619, 631, 641, 643, 647, 653, 659, 661, 673, 677, 683, 691, 701, 709, 719, 727, 733, 739, 743, 751, 757, 761, 769, 773, 787, 797, 809, 811, 821, 823, 827, 829, 839, 853, 857, 859, 863, 877, 881, 883, 887, 907, 911, 919, 929, 937, 941, 947, 953, 967, 971, 977, 983, 991, 997]\n"
     ]
    }
   ],
   "source": [
    " # prime numbers are greater than 1\n",
    "    \n",
    "l = []\n",
    "\n",
    "for num in range(2,1000,1):\n",
    "    for i in range(2,num):\n",
    "           if (num % i) == 0:\n",
    "               break\n",
    "    else:\n",
    "        l.append(num)\n",
    "           #print(num)\n",
    "            \n",
    "print(l)"
   ]
  },
  {
   "cell_type": "markdown",
   "metadata": {},
   "source": [
    "You can open the text file in an editor to verify that this code wrote the file as expected.  Now open the file we just created in Python, in read mode (r)"
   ]
  },
  {
   "cell_type": "code",
   "execution_count": 2,
   "metadata": {},
   "outputs": [],
   "source": [
    "f = open('tempfile.txt', 'r')"
   ]
  },
  {
   "cell_type": "markdown",
   "metadata": {},
   "source": [
    "The first method to read a file is to read it in all at once, with a read() method. Here we load the whole file in memory and assign it to a. Note that we will re-open the file here to start from the beginning. Otherwise it will be positioned at the end of the file and give us back an empty string. "
   ]
  },
  {
   "cell_type": "code",
   "execution_count": 1,
   "metadata": {},
   "outputs": [
    {
     "data": {
      "text/plain": [
       "'this is line 0\\nthis is line 1\\nthis is line 2\\nthis is line 3\\nthis is line 4\\nthis is line 5\\nthis is line 6\\nthis is line 7\\nthis is line 8\\nthis is line 9\\n'"
      ]
     },
     "execution_count": 1,
     "metadata": {},
     "output_type": "execute_result"
    }
   ],
   "source": [
    "f = open('tempfile.txt', 'r')\n",
    "a = f.read()\n",
    "a"
   ]
  },
  {
   "cell_type": "raw",
   "metadata": {},
   "source": [
    "Note that when we use read() it creates a string object.  The whole file is loaded into one big string.  Sometimes this may be useful, but often it is not the best way to load a file."
   ]
  },
  {
   "cell_type": "code",
   "execution_count": 3,
   "metadata": {},
   "outputs": [
    {
     "data": {
      "text/plain": [
       "str"
      ]
     },
     "execution_count": 3,
     "metadata": {},
     "output_type": "execute_result"
    }
   ],
   "source": [
    "type(a)"
   ]
  },
  {
   "cell_type": "markdown",
   "metadata": {},
   "source": [
    "An alternative approach is to step through reading each line of the file with the readline() method.  Notice that each time you execute this it advances to the next line.  Each line is read into a string object.  In this case we are not doing anything with that object except printing it."
   ]
  },
  {
   "cell_type": "code",
   "execution_count": 4,
   "metadata": {},
   "outputs": [
    {
     "name": "stdout",
     "output_type": "stream",
     "text": [
      "this is line 0\n",
      "\n",
      "this is line 1\n",
      "\n"
     ]
    }
   ],
   "source": [
    "f = open('tempfile.txt', 'r')\n",
    "print(f.readline())\n",
    "print(f.readline())"
   ]
  },
  {
   "cell_type": "markdown",
   "metadata": {},
   "source": [
    "Here is another way to loop through the lines of the file and print them all out. Notice that printing the lines suppresses the quotes and the newline string."
   ]
  },
  {
   "cell_type": "code",
   "execution_count": 5,
   "metadata": {},
   "outputs": [
    {
     "name": "stdout",
     "output_type": "stream",
     "text": [
      "this is line 0\n",
      "this is line 1\n",
      "this is line 2\n",
      "this is line 3\n",
      "this is line 4\n",
      "this is line 5\n",
      "this is line 6\n",
      "this is line 7\n",
      "this is line 8\n",
      "this is line 9\n"
     ]
    }
   ],
   "source": [
    "f = open('tempfile.txt', 'r')\n",
    "for line in f:\n",
    "    print(line, end='')"
   ]
  },
  {
   "cell_type": "markdown",
   "metadata": {},
   "source": [
    "The plural version of the readline() method generates a list of the lines in a file, with a string containing each line of the file.  Notice that this list contains the raw text contents, including the newline string '\\n'."
   ]
  },
  {
   "cell_type": "code",
   "execution_count": 6,
   "metadata": {},
   "outputs": [
    {
     "data": {
      "text/plain": [
       "['this is line 0\\n',\n",
       " 'this is line 1\\n',\n",
       " 'this is line 2\\n',\n",
       " 'this is line 3\\n',\n",
       " 'this is line 4\\n',\n",
       " 'this is line 5\\n',\n",
       " 'this is line 6\\n',\n",
       " 'this is line 7\\n',\n",
       " 'this is line 8\\n',\n",
       " 'this is line 9\\n']"
      ]
     },
     "execution_count": 6,
     "metadata": {},
     "output_type": "execute_result"
    }
   ],
   "source": [
    "f = open('tempfile.txt', 'r')\n",
    "a = f.readlines()\n",
    "a"
   ]
  },
  {
   "cell_type": "markdown",
   "metadata": {},
   "source": [
    "Using **with** is a handy way to open a file, load its data, and automatically close the file."
   ]
  },
  {
   "cell_type": "code",
   "execution_count": 7,
   "metadata": {},
   "outputs": [
    {
     "name": "stdout",
     "output_type": "stream",
     "text": [
      "this is line 0\n",
      "this is line 1\n",
      "this is line 2\n",
      "this is line 3\n",
      "this is line 4\n",
      "this is line 5\n",
      "this is line 6\n",
      "this is line 7\n",
      "this is line 8\n",
      "this is line 9\n",
      "\n"
     ]
    },
    {
     "data": {
      "text/plain": [
       "True"
      ]
     },
     "execution_count": 7,
     "metadata": {},
     "output_type": "execute_result"
    }
   ],
   "source": [
    "with open('tempfile.txt', 'r') as f:\n",
    "    read_data = f.read()\n",
    "print(read_data)\n",
    "f.closed\n"
   ]
  },
  {
   "cell_type": "markdown",
   "metadata": {},
   "source": [
    "### Working with JSON\n",
    "\n",
    "JSON (JavaScript Object Notation) is a common format for data accessed from a web browser, which is generally running JavaScript.\n",
    "\n",
    "The json dumps() method converts Python objects to JSON format, using the counterpart format for each data type, as in the table below."
   ]
  },
  {
   "cell_type": "raw",
   "metadata": {},
   "source": [
    "\n",
    "Python\t       JSON\n",
    "dict\t       object\n",
    "list, tuple\t   array\n",
    "str\t           string\n",
    "int, float     number\n",
    "True\t       true\n",
    "False\t       false\n",
    "None\t       null"
   ]
  },
  {
   "cell_type": "code",
   "execution_count": null,
   "metadata": {},
   "outputs": [],
   "source": [
    "import json\n",
    "\n",
    "json.dumps([1,2,3])"
   ]
  },
  {
   "cell_type": "markdown",
   "metadata": {},
   "source": [
    "Notice that objects can be complex, containing multiple types of data, and still be easily translated between Python objects and JSON format.  The following example converts a Python list, containing one element that is a dictionary, to JSON."
   ]
  },
  {
   "cell_type": "code",
   "execution_count": null,
   "metadata": {},
   "outputs": [],
   "source": [
    "json.dumps([1,2,3,{'foo': 'bar'}])"
   ]
  },
  {
   "cell_type": "markdown",
   "metadata": {},
   "source": [
    "Below we convert the contents of tempfile to a json object."
   ]
  },
  {
   "cell_type": "code",
   "execution_count": null,
   "metadata": {},
   "outputs": [],
   "source": [
    "f = open('tempfile.txt', 'r')\n",
    "\n",
    "x = json.dumps(f.readlines())\n",
    "x"
   ]
  },
  {
   "cell_type": "markdown",
   "metadata": {},
   "source": [
    "With the dump() method, we can write JSON data to a file.  Here we read tempfile, and create a new JSON formatted file into which we write the contents of tempfile."
   ]
  },
  {
   "cell_type": "code",
   "execution_count": null,
   "metadata": {},
   "outputs": [],
   "source": [
    "f = open('tempfile.txt', 'r')\n",
    "j = open('temp.json', 'w')\n",
    "json.dump(f.readlines(), j)"
   ]
  },
  {
   "cell_type": "markdown",
   "metadata": {},
   "source": [
    "Using the load() method, we can read JSON formatted data and load it into a Python object."
   ]
  },
  {
   "cell_type": "code",
   "execution_count": null,
   "metadata": {},
   "outputs": [],
   "source": [
    "j = open('temp.json', 'r')\n",
    "x = json.load(j)\n",
    "x"
   ]
  },
  {
   "cell_type": "markdown",
   "metadata": {},
   "source": [
    "### Working with CSV Files\n",
    "\n",
    "CSV (Comma Separated Values) is probably the most common format of data you will encounter.  Files in this format are often exported in this format from a database table or from Excel, or just used as a simple, standard text (ASCII) file format for ease of use.\n",
    "\n",
    "Let's begin by writing a CSV file like the JSON example above, by importing the csv module, and writing a file with several columns, separated by commas."
   ]
  },
  {
   "cell_type": "code",
   "execution_count": 1,
   "metadata": {},
   "outputs": [
    {
     "data": {
      "text/plain": [
       "[[0, 0, 2],\n",
       " [1, 2, 3],\n",
       " [2, 4, 4],\n",
       " [3, 6, 5],\n",
       " [4, 8, 6],\n",
       " [5, 10, 7],\n",
       " [6, 12, 8],\n",
       " [7, 14, 9],\n",
       " [8, 16, 10],\n",
       " [9, 18, 11]]"
      ]
     },
     "execution_count": 1,
     "metadata": {},
     "output_type": "execute_result"
    }
   ],
   "source": [
    "my_data = []\n",
    "for i in range(10):\n",
    "    my_data.append([i, i*2, i+2])\n",
    "my_data"
   ]
  },
  {
   "cell_type": "markdown",
   "metadata": {},
   "source": [
    "Now we will write the CSV file using my_data, and adding a header row first with column names.  Note that we open the file as before, in write mode, but now use the writerow() method to write one row with the header, and writerows() to iterate over the rows and write them to the file."
   ]
  },
  {
   "cell_type": "code",
   "execution_count": 2,
   "metadata": {},
   "outputs": [],
   "source": [
    "import csv\n",
    "with open('my_data.csv', 'w', newline='') as f:\n",
    "    writer = csv.writer(f)\n",
    "    writer.writerow([\"x\", \"y\", \"z\"])\n",
    "    writer.writerows(my_data)"
   ]
  },
  {
   "cell_type": "markdown",
   "metadata": {},
   "source": [
    "Reading a CSV file is very similar to writing one, but simpler.  We create a reader object that is iterable, and then we can iterate over the rows and do things, like print each row."
   ]
  },
  {
   "cell_type": "code",
   "execution_count": 3,
   "metadata": {},
   "outputs": [
    {
     "name": "stdout",
     "output_type": "stream",
     "text": [
      "['x', 'y', 'z']\n",
      "['0', '0', '2']\n",
      "['1', '2', '3']\n",
      "['2', '4', '4']\n",
      "['3', '6', '5']\n",
      "['4', '8', '6']\n",
      "['5', '10', '7']\n",
      "['6', '12', '8']\n",
      "['7', '14', '9']\n",
      "['8', '16', '10']\n",
      "['9', '18', '11']\n"
     ]
    }
   ],
   "source": [
    "with open('my_data.csv', newline='') as f:\n",
    "    reader = csv.reader(f)\n",
    "    for row in reader:\n",
    "        print(row)"
   ]
  },
  {
   "cell_type": "markdown",
   "metadata": {},
   "source": [
    "If we want to actually work with the data, then we need to assign it to an object rather than just printing it.  Here we can use the list method to convert the iterable reader object to a list, one per row."
   ]
  },
  {
   "cell_type": "code",
   "execution_count": 4,
   "metadata": {},
   "outputs": [
    {
     "data": {
      "text/plain": [
       "[['x', 'y', 'z'],\n",
       " ['0', '0', '2'],\n",
       " ['1', '2', '3'],\n",
       " ['2', '4', '4'],\n",
       " ['3', '6', '5'],\n",
       " ['4', '8', '6'],\n",
       " ['5', '10', '7'],\n",
       " ['6', '12', '8'],\n",
       " ['7', '14', '9'],\n",
       " ['8', '16', '10'],\n",
       " ['9', '18', '11']]"
      ]
     },
     "execution_count": 4,
     "metadata": {},
     "output_type": "execute_result"
    }
   ],
   "source": [
    "with open('my_data.csv', newline='') as f:\n",
    "    reader = csv.reader(f)\n",
    "    my_data = list(reader)\n",
    "my_data"
   ]
  },
  {
   "cell_type": "markdown",
   "metadata": {},
   "source": [
    "If you want to skip the header row in order to have the data without the header, you can use **next** after instantiating the reader object, to advance one row in the CVS file."
   ]
  },
  {
   "cell_type": "code",
   "execution_count": 5,
   "metadata": {},
   "outputs": [
    {
     "data": {
      "text/plain": [
       "[['0', '0', '2'],\n",
       " ['1', '2', '3'],\n",
       " ['2', '4', '4'],\n",
       " ['3', '6', '5'],\n",
       " ['4', '8', '6'],\n",
       " ['5', '10', '7'],\n",
       " ['6', '12', '8'],\n",
       " ['7', '14', '9'],\n",
       " ['8', '16', '10'],\n",
       " ['9', '18', '11']]"
      ]
     },
     "execution_count": 5,
     "metadata": {},
     "output_type": "execute_result"
    }
   ],
   "source": [
    "with open('my_data.csv', newline='') as f:\n",
    "    reader = csv.reader(f)\n",
    "    next(reader)\n",
    "    my_data = list(reader)\n",
    "my_data"
   ]
  },
  {
   "cell_type": "markdown",
   "metadata": {},
   "source": [
    "Since the data is now available as an object, you can do normal Python processing on it, like selecting the first entry of each row and printing it."
   ]
  },
  {
   "cell_type": "code",
   "execution_count": 6,
   "metadata": {},
   "outputs": [
    {
     "name": "stdout",
     "output_type": "stream",
     "text": [
      "0\n",
      "1\n",
      "2\n",
      "3\n",
      "4\n",
      "5\n",
      "6\n",
      "7\n",
      "8\n",
      "9\n"
     ]
    }
   ],
   "source": [
    "for row in my_data:\n",
    "    print(row[0])"
   ]
  },
  {
   "cell_type": "markdown",
   "metadata": {},
   "source": [
    "### Reading a CSV File and Computing Statistics With it\n",
    "\n",
    "Use rain.csv to calculate mean and maximum values in a column"
   ]
  },
  {
   "cell_type": "code",
   "execution_count": 88,
   "metadata": {},
   "outputs": [
    {
     "name": "stdout",
     "output_type": "stream",
     "text": [
      "mean: 3.7 inches\n",
      "max: 5.9 inches\n",
      "min: 0.7 inches\n"
     ]
    }
   ],
   "source": [
    "with open('rain.csv', 'r') as csvfile:\n",
    "    \n",
    "    # initialize a counter and variables to contain our descriptive stats\n",
    "    count = 0 #at the end, divide cumulative_sum by this to get the mean\n",
    "    cumulative_sum = 0 #our rolling sum\n",
    "    max_value = -1 #pick a really small number that's guaranteed to be less than the max\n",
    "    min_value = 10\n",
    "    \n",
    "    # open the file and skip the header row\n",
    "    my_csv = csv.reader(csvfile)\n",
    "    next(my_csv)\n",
    "    \n",
    "    # loop through each data row\n",
    "    for row in my_csv:\n",
    "        \n",
    "        # rainfall amount is in column 1, only process this row's value if not an empty string\n",
    "        if not row[1] == '':\n",
    "            \n",
    "            # increment the counter and extract this row's rainfall as a float\n",
    "            count = count + 1\n",
    "            rainfall = float(row[1])\n",
    "            \n",
    "            # add this row's rainfall to the cumulative sum\n",
    "            cumulative_sum = cumulative_sum + rainfall\n",
    "            \n",
    "            # if this row's rainfall is greater than the current max value, update with the new max\n",
    "            if rainfall > max_value:\n",
    "                max_value = rainfall\n",
    "            if rainfall<min_value:\n",
    "                min_value = rainfall\n",
    "\n",
    "    # after looping through all the rows, divide the cumulative sum by the count and round to get the mean\n",
    "    mean_value = round(cumulative_sum / count, 1)\n",
    "    \n",
    "    # print out the mean and max values\n",
    "    print('mean:', mean_value, 'inches')\n",
    "    print('max:', max_value, 'inches')\n",
    "    print('min:', min_value, 'inches')"
   ]
  },
  {
   "cell_type": "markdown",
   "metadata": {},
   "source": [
    "How would you find the minimum rainfall amount?"
   ]
  },
  {
   "cell_type": "markdown",
   "metadata": {},
   "source": [
    "### Cleaning up Messy Data"
   ]
  },
  {
   "cell_type": "markdown",
   "metadata": {},
   "source": [
    "Let's look at another data file - one that contains a few Craigslist rental listings, that we have already done some cleanup on."
   ]
  },
  {
   "cell_type": "code",
   "execution_count": 7,
   "metadata": {},
   "outputs": [
    {
     "name": "stdout",
     "output_type": "stream",
     "text": [
      "['neighborhood', 'price', 'bedrooms', 'date', 'sqft', 'longitude', 'latitude']\n",
      "['foster city', '2495', '1', '11/14/2014 12:26', '755', '-122.27', '37.5538']\n",
      "['palo alto', '2695', '', '11/14/2014 12:25', '443', '-122.161524', '37.450289']\n",
      "['brisbane', '3150', '2', '11/14/2014 12:24', '1242', '-122.417912', '37.692415']\n",
      "['palo alto', '2800', '2', '11/14/2014 12:24', '', '', '']\n",
      "['san mateo', '2196', '1', '11/14/2014 12:24', '676', '-122.2998', '37.5395']\n",
      "['santa clara', '3264', '3', '11/14/2014 12:28', '1138', '', '']\n",
      "['san jose south', '2000', '2', '11/14/2014 12:28', '822', '-121.902268', '37.253503']\n",
      "['sunnyvale', '4740', '3', '11/14/2014 12:28', '1406', '-122.034683', '37.368445']\n",
      "['inner sunset / UCSF', '3395', '2', '11/14/2014 12:32', '', '-122.479345', '37.764582']\n",
      "['richmond / seacliff', '2699', '1', '11/14/2014 12:32', '', '-122.503781', '37.7718']\n",
      "['SOMA / south beach', '3620', '1', '11/14/2014 12:30', '860', '-122.395195', '37.775133']\n",
      "['dublin / pleasanton / livermore', '2025', '1', '11/14/2014 12:18', '636', '-121.787665', '37.67963']\n",
      "['concord / pleasant hill / martinez', '', '2', '11/14/2014 12:18', '1019', '-122.035275', '37.975259']\n",
      "['hercules, pinole, san pablo, el sob', '1795', '1', '11/14/2014 12:17', '715', '-122.321672', '37.978086']\n",
      "['corte madera', '4299', '3', '11/14/2014 12:33', '1533', '-122.488541', '37.919834']\n"
     ]
    }
   ],
   "source": [
    "with open('rents_raw.csv', 'r') as csvfile:\n",
    "    my_csv = csv.reader(csvfile)\n",
    "    for row in my_csv:\n",
    "        print(row)"
   ]
  },
  {
   "cell_type": "code",
   "execution_count": 8,
   "metadata": {},
   "outputs": [
    {
     "name": "stdout",
     "output_type": "stream",
     "text": [
      "['neighborhood', 'price', 'bedrooms', 'date', 'sqft', 'longitude', 'latitude']\n"
     ]
    }
   ],
   "source": [
    "# the column headers are the first row in the data file\n",
    "# use next to iterate our csv reader to the first row to grab the headers\n",
    "with open('rents_raw.csv', 'r') as csvfile:\n",
    "    my_csv = csv.reader(csvfile)\n",
    "    headers = next(my_csv)\n",
    "    print(headers)"
   ]
  },
  {
   "cell_type": "code",
   "execution_count": null,
   "metadata": {},
   "outputs": [],
   "source": [
    "# what is the 1st column (zero-indexed) in our data set?\n",
    "headers[1]"
   ]
  },
  {
   "cell_type": "code",
   "execution_count": 9,
   "metadata": {},
   "outputs": [
    {
     "name": "stdout",
     "output_type": "stream",
     "text": [
      "price\n",
      "2495\n",
      "2695\n",
      "3150\n",
      "2800\n",
      "2196\n",
      "3264\n",
      "2000\n",
      "4740\n",
      "3395\n",
      "2699\n",
      "3620\n",
      "2025\n",
      "\n",
      "1795\n",
      "4299\n"
     ]
    }
   ],
   "source": [
    "# for each row in the data set, print the price column's value\n",
    "with open('rents_raw.csv', 'r') as csvfile:\n",
    "    my_csv = csv.reader(csvfile)\n",
    "    for row in my_csv:\n",
    "        print(row[1])"
   ]
  },
  {
   "cell_type": "code",
   "execution_count": 74,
   "metadata": {},
   "outputs": [
    {
     "data": {
      "text/plain": [
       "['price',\n",
       " '2495',\n",
       " '2695',\n",
       " '3150',\n",
       " '2800',\n",
       " '2196',\n",
       " '3264',\n",
       " '2000',\n",
       " '4740',\n",
       " '3395',\n",
       " '2699',\n",
       " '3620',\n",
       " '2025',\n",
       " '',\n",
       " '1795',\n",
       " '4299']"
      ]
     },
     "execution_count": 74,
     "metadata": {},
     "output_type": "execute_result"
    }
   ],
   "source": [
    "# create a new list to contain the column of prices in the data set\n",
    "prices = []\n",
    "with open('rents_raw.csv', 'r') as csvfile:\n",
    "    my_csv = csv.reader(csvfile)\n",
    "    for row in my_csv:\n",
    "        prices.append(row[1])  \n",
    "prices"
   ]
  },
  {
   "cell_type": "markdown",
   "metadata": {},
   "source": [
    "This list has a couple of problems. First, it includes the header. Second, it's all strings even though prices are numeric data. Third, it contains some empty strings. We'll have to clean it up."
   ]
  },
  {
   "cell_type": "code",
   "execution_count": null,
   "metadata": {},
   "outputs": [],
   "source": []
  },
  {
   "cell_type": "code",
   "execution_count": null,
   "metadata": {},
   "outputs": [],
   "source": [
    "# to remove the first element of the list, we can just capture position 1 through the end of the list\n",
    "prices_noheader = prices[1:]\n",
    "prices_noheader"
   ]
  },
  {
   "cell_type": "code",
   "execution_count": null,
   "metadata": {},
   "outputs": [],
   "source": [
    "# now let's convert the price strings to integers\n",
    "for price in prices_noheader:\n",
    "    print(int(float(price)), ' ')"
   ]
  },
  {
   "cell_type": "code",
   "execution_count": null,
   "metadata": {},
   "outputs": [],
   "source": [
    "# you can't convert an empty string to a numeric type\n",
    "for price in prices_noheader:\n",
    "    if not price == '':\n",
    "        print(int(float(price)))\n",
    "    else:\n",
    "        print('None')"
   ]
  },
  {
   "cell_type": "code",
   "execution_count": 38,
   "metadata": {},
   "outputs": [],
   "source": [
    "# encapsulate this functionality inside a new function\n",
    "def extract_int_price(price):\n",
    "    if not price == '':\n",
    "        return int(float(price))\n",
    "    else:\n",
    "        return None"
   ]
  },
  {
   "cell_type": "code",
   "execution_count": 39,
   "metadata": {},
   "outputs": [
    {
     "name": "stdout",
     "output_type": "stream",
     "text": [
      "2495\n",
      "2695\n",
      "3150\n",
      "2800\n",
      "2196\n",
      "3264\n",
      "2000\n",
      "4740\n",
      "3395\n",
      "2699\n",
      "3620\n",
      "2025\n",
      "2378\n",
      "1795\n",
      "4299\n",
      "950\n",
      "2695\n",
      "4500\n",
      "3900\n",
      "2939\n",
      "2045\n",
      "2505\n",
      "3000\n",
      "3100\n",
      "2481\n",
      "2295\n",
      "3525\n",
      "2595\n",
      "1400\n",
      "3050\n",
      "2450\n",
      "2495\n",
      "2955\n",
      "2950\n",
      "3699\n",
      "3400\n",
      "2079\n",
      "1794\n",
      "1540\n",
      "2245\n",
      "3595\n",
      "1750\n",
      "2595\n",
      "4500\n",
      "3669\n",
      "2995\n",
      "4150\n",
      "6950\n",
      "4750\n",
      "2895\n",
      "5400\n",
      "2625\n",
      "1895\n",
      "2320\n",
      "1705\n",
      "4250\n",
      "3495\n",
      "3289\n",
      "1375\n",
      "3600\n",
      "1695\n",
      "2425\n",
      "2795\n",
      "2750\n",
      "3750\n",
      "3600\n",
      "1799\n",
      "2700\n",
      "1395\n",
      "2175\n",
      "3050\n",
      "2775\n",
      "2895\n",
      "3995\n",
      "2775\n",
      "2744\n",
      "4899\n",
      "2531\n",
      "5500\n",
      "5875\n",
      "4856\n",
      "1595\n",
      "1351\n",
      "1495\n",
      "3200\n",
      "1275\n",
      "1200\n",
      "2576\n",
      "2088\n",
      "2950\n",
      "2769\n",
      "2695\n",
      "2995\n",
      "3995\n",
      "5195\n",
      "3250\n",
      "1350\n",
      "2626\n",
      "1995\n",
      "1795\n",
      "2606\n",
      "3495\n",
      "2739\n",
      "4100\n",
      "2046\n",
      "2307\n",
      "3450\n",
      "2200\n",
      "15000\n",
      "3500\n",
      "950\n",
      "1200\n",
      "1937\n",
      "2282\n",
      "6000\n",
      "1575\n",
      "1695\n",
      "4900\n",
      "5995\n",
      "2995\n",
      "2145\n",
      "2600\n",
      "2895\n",
      "3475\n",
      "4400\n",
      "34\n",
      "1308\n",
      "2176\n",
      "2150\n",
      "3800\n",
      "3450\n",
      "3398\n",
      "2987\n",
      "3495\n",
      "2145\n",
      "2405\n",
      "1575\n",
      "1695\n",
      "3299\n",
      "3399\n",
      "4200\n",
      "1025\n",
      "1850\n",
      "1450\n",
      "3398\n",
      "3498\n",
      "3330\n",
      "2363\n",
      "2895\n",
      "2150\n",
      "2200\n",
      "2500\n",
      "1635\n",
      "1286\n",
      "3200\n",
      "2295\n",
      "2895\n",
      "2950\n",
      "2149\n",
      "1825\n",
      "2498\n",
      "3644\n",
      "4499\n",
      "1695\n",
      "1000\n",
      "2500\n",
      "3900\n",
      "4950\n",
      "2130\n",
      "3200\n",
      "1725\n",
      "2100\n",
      "3475\n",
      "3500\n",
      "2495\n",
      "1800\n",
      "3000\n",
      "3200\n",
      "2850\n",
      "2600\n",
      "1750\n",
      "1995\n",
      "1595\n",
      "1890\n",
      "32\n",
      "2700\n",
      "2230\n",
      "2395\n",
      "1975\n",
      "1654\n",
      "2975\n",
      "2924\n",
      "1400\n",
      "2070\n",
      "1287\n",
      "1989\n",
      "1775\n",
      "4555\n",
      "2299\n",
      "1745\n",
      "1706\n",
      "5795\n",
      "1395\n",
      "3975\n",
      "2539\n",
      "2452\n",
      "2640\n",
      "2445\n",
      "3699\n",
      "3049\n",
      "1195\n",
      "2100\n",
      "1325\n",
      "2199\n",
      "1450\n",
      "2199\n",
      "2900\n",
      "2188\n",
      "1800\n",
      "2270\n",
      "4995\n",
      "4209\n",
      "2955\n",
      "1750\n",
      "3600\n",
      "2000\n",
      "2495\n",
      "2082\n",
      "2685\n",
      "1250\n",
      "1950\n",
      "2400\n",
      "5010\n",
      "1850\n",
      "1775\n",
      "1595\n",
      "500\n",
      "1485\n",
      "2850\n",
      "2200\n",
      "1725\n",
      "3823\n",
      "1905\n",
      "3900\n",
      "4674\n",
      "1850\n",
      "3400\n",
      "975\n",
      "4650\n",
      "3949\n",
      "3695\n",
      "3527\n",
      "2517\n",
      "6600\n",
      "3200\n",
      "2395\n",
      "2295\n",
      "1950\n",
      "1900\n",
      "2231\n",
      "2457\n",
      "4700\n",
      "1375\n",
      "1375\n",
      "3795\n",
      "5850\n",
      "3150\n",
      "2400\n",
      "1550\n",
      "1695\n",
      "1850\n",
      "1595\n",
      "3664\n",
      "3595\n",
      "2850\n",
      "1375\n",
      "2482\n",
      "2700\n",
      "5199\n",
      "3105\n",
      "2295\n",
      "2095\n",
      "None\n",
      "1600\n",
      "2600\n",
      "3700\n",
      "1800\n",
      "2200\n",
      "1376\n",
      "5850\n",
      "3050\n",
      "6395\n",
      "1625\n",
      "1885\n",
      "1600\n",
      "1695\n",
      "1725\n",
      "2785\n",
      "2489\n",
      "2566\n",
      "1900\n",
      "1900\n",
      "3095\n",
      "2695\n",
      "2395\n",
      "2795\n",
      "2000\n",
      "2500\n",
      "1995\n",
      "6000\n",
      "2700\n",
      "2210\n",
      "1796\n",
      "1796\n",
      "1500\n",
      "5630\n",
      "3200\n",
      "1995\n",
      "2595\n",
      "1100\n",
      "2491\n",
      "1950\n",
      "1950\n",
      "2251\n",
      "2793\n",
      "1625\n",
      "1695\n",
      "2999\n",
      "3159\n",
      "2150\n",
      "2595\n",
      "980\n",
      "1525\n",
      "1900\n",
      "2700\n",
      "2445\n",
      "2850\n",
      "1696\n",
      "1695\n",
      "2396\n",
      "3000\n",
      "2500\n",
      "1350\n",
      "1775\n",
      "1725\n",
      "5000\n",
      "1495\n",
      "2088\n",
      "3330\n",
      "2098\n",
      "2740\n",
      "1950\n",
      "4000\n",
      "4500\n",
      "1350\n",
      "4680\n",
      "2100\n",
      "2050\n",
      "3000\n",
      "2110\n",
      "2098\n",
      "1951\n",
      "1950\n",
      "2250\n",
      "3889\n",
      "3145\n",
      "2519\n",
      "2800\n",
      "3800\n",
      "1275\n",
      "1811\n",
      "3295\n",
      "2456\n",
      "2695\n",
      "2395\n",
      "2855\n",
      "3699\n",
      "3000\n",
      "1900\n",
      "1430\n",
      "1450\n",
      "1200\n",
      "850\n",
      "7500\n",
      "2895\n",
      "2800\n",
      "2395\n",
      "2996\n",
      "2195\n",
      "3400\n",
      "3400\n",
      "2495\n",
      "1850\n",
      "2085\n",
      "1835\n",
      "6000\n",
      "2725\n",
      "2050\n",
      "2500\n",
      "1776\n",
      "2650\n",
      "2658\n",
      "2849\n",
      "4500\n",
      "4500\n",
      "1450\n",
      "2750\n",
      "1992\n",
      "2200\n",
      "2000\n",
      "2600\n",
      "2225\n",
      "4200\n",
      "2235\n",
      "1470\n",
      "2445\n",
      "3200\n",
      "3280\n",
      "2635\n",
      "2150\n",
      "2290\n",
      "1795\n",
      "1850\n",
      "1535\n",
      "3250\n",
      "15000\n",
      "3250\n",
      "1698\n",
      "1725\n",
      "2445\n",
      "3425\n",
      "4750\n",
      "3550\n",
      "2500\n",
      "1995\n",
      "1535\n",
      "2050\n",
      "2695\n",
      "2595\n",
      "2939\n",
      "2763\n",
      "2600\n",
      "3050\n",
      "3800\n",
      "3699\n",
      "2600\n",
      "1750\n",
      "1775\n",
      "3150\n",
      "3950\n",
      "2475\n",
      "5495\n",
      "4200\n",
      "2395\n",
      "1759\n",
      "3395\n",
      "2599\n",
      "2200\n",
      "2500\n",
      "1995\n",
      "3950\n",
      "7000\n",
      "2225\n",
      "3295\n",
      "2225\n",
      "2371\n",
      "2399\n",
      "4995\n",
      "4745\n",
      "1595\n",
      "1454\n",
      "1800\n",
      "8200\n",
      "1749\n",
      "2833\n",
      "2905\n",
      "2759\n",
      "1525\n",
      "7080\n",
      "2650\n",
      "2079\n",
      "2195\n",
      "3182\n",
      "1639\n",
      "2650\n",
      "4400\n",
      "3700\n",
      "3200\n",
      "3800\n",
      "2850\n",
      "4700\n",
      "3000\n",
      "3300\n",
      "3449\n",
      "2149\n",
      "2250\n",
      "1030\n",
      "1175\n",
      "1450\n",
      "800\n"
     ]
    }
   ],
   "source": [
    "# use our function to convert each element in the list of prices to an integer\n",
    "for price in prices_noheader:\n",
    "    print(extract_int_price(price))"
   ]
  },
  {
   "cell_type": "code",
   "execution_count": 40,
   "metadata": {},
   "outputs": [
    {
     "name": "stdout",
     "output_type": "stream",
     "text": [
      "[2495, 2695, 3150, 2800, 2196, 3264, 2000, 4740, 3395, 2699, 3620, 2025, 2378, 1795, 4299, 950, 2695, 4500, 3900, 2939, 2045, 2505, 3000, 3100, 2481, 2295, 3525, 2595, 1400, 3050, 2450, 2495, 2955, 2950, 3699, 3400, 2079, 1794, 1540, 2245, 3595, 1750, 2595, 4500, 3669, 2995, 4150, 6950, 4750, 2895, 5400, 2625, 1895, 2320, 1705, 4250, 3495, 3289, 1375, 3600, 1695, 2425, 2795, 2750, 3750, 3600, 1799, 2700, 1395, 2175, 3050, 2775, 2895, 3995, 2775, 2744, 4899, 2531, 5500, 5875, 4856, 1595, 1351, 1495, 3200, 1275, 1200, 2576, 2088, 2950, 2769, 2695, 2995, 3995, 5195, 3250, 1350, 2626, 1995, 1795, 2606, 3495, 2739, 4100, 2046, 2307, 3450, 2200, 15000, 3500, 950, 1200, 1937, 2282, 6000, 1575, 1695, 4900, 5995, 2995, 2145, 2600, 2895, 3475, 4400, 34, 1308, 2176, 2150, 3800, 3450, 3398, 2987, 3495, 2145, 2405, 1575, 1695, 3299, 3399, 4200, 1025, 1850, 1450, 3398, 3498, 3330, 2363, 2895, 2150, 2200, 2500, 1635, 1286, 3200, 2295, 2895, 2950, 2149, 1825, 2498, 3644, 4499, 1695, 1000, 2500, 3900, 4950, 2130, 3200, 1725, 2100, 3475, 3500, 2495, 1800, 3000, 3200, 2850, 2600, 1750, 1995, 1595, 1890, 32, 2700, 2230, 2395, 1975, 1654, 2975, 2924, 1400, 2070, 1287, 1989, 1775, 4555, 2299, 1745, 1706, 5795, 1395, 3975, 2539, 2452, 2640, 2445, 3699, 3049, 1195, 2100, 1325, 2199, 1450, 2199, 2900, 2188, 1800, 2270, 4995, 4209, 2955, 1750, 3600, 2000, 2495, 2082, 2685, 1250, 1950, 2400, 5010, 1850, 1775, 1595, 500, 1485, 2850, 2200, 1725, 3823, 1905, 3900, 4674, 1850, 3400, 975, 4650, 3949, 3695, 3527, 2517, 6600, 3200, 2395, 2295, 1950, 1900, 2231, 2457, 4700, 1375, 1375, 3795, 5850, 3150, 2400, 1550, 1695, 1850, 1595, 3664, 3595, 2850, 1375, 2482, 2700, 5199, 3105, 2295, 2095, None, 1600, 2600, 3700, 1800, 2200, 1376, 5850, 3050, 6395, 1625, 1885, 1600, 1695, 1725, 2785, 2489, 2566, 1900, 1900, 3095, 2695, 2395, 2795, 2000, 2500, 1995, 6000, 2700, 2210, 1796, 1796, 1500, 5630, 3200, 1995, 2595, 1100, 2491, 1950, 1950, 2251, 2793, 1625, 1695, 2999, 3159, 2150, 2595, 980, 1525, 1900, 2700, 2445, 2850, 1696, 1695, 2396, 3000, 2500, 1350, 1775, 1725, 5000, 1495, 2088, 3330, 2098, 2740, 1950, 4000, 4500, 1350, 4680, 2100, 2050, 3000, 2110, 2098, 1951, 1950, 2250, 3889, 3145, 2519, 2800, 3800, 1275, 1811, 3295, 2456, 2695, 2395, 2855, 3699, 3000, 1900, 1430, 1450, 1200, 850, 7500, 2895, 2800, 2395, 2996, 2195, 3400, 3400, 2495, 1850, 2085, 1835, 6000, 2725, 2050, 2500, 1776, 2650, 2658, 2849, 4500, 4500, 1450, 2750, 1992, 2200, 2000, 2600, 2225, 4200, 2235, 1470, 2445, 3200, 3280, 2635, 2150, 2290, 1795, 1850, 1535, 3250, 15000, 3250, 1698, 1725, 2445, 3425, 4750, 3550, 2500, 1995, 1535, 2050, 2695, 2595, 2939, 2763, 2600, 3050, 3800, 3699, 2600, 1750, 1775, 3150, 3950, 2475, 5495, 4200, 2395, 1759, 3395, 2599, 2200, 2500, 1995, 3950, 7000, 2225, 3295, 2225, 2371, 2399, 4995, 4745, 1595, 1454, 1800, 8200, 1749, 2833, 2905, 2759, 1525, 7080, 2650, 2079, 2195, 3182, 1639, 2650, 4400, 3700, 3200, 3800, 2850, 4700, 3000, 3300, 3449, 2149, 2250, 1030, 1175, 1450, 800]\n"
     ]
    }
   ],
   "source": [
    "# rather than just printing each converted value, turn it into a new list called int_prices\n",
    "int_prices = []\n",
    "for price in prices_noheader:\n",
    "    int_prices.append(extract_int_price(price))\n",
    "print(int_prices)"
   ]
  },
  {
   "cell_type": "markdown",
   "metadata": {},
   "source": [
    "### Now let's clean up our neighborhood names\n"
   ]
  },
  {
   "cell_type": "code",
   "execution_count": 37,
   "metadata": {},
   "outputs": [
    {
     "name": "stdout",
     "output_type": "stream",
     "text": [
      "foster city\n",
      "palo alto\n",
      "brisbane\n",
      "palo alto\n",
      "san mateo\n",
      "santa clara\n",
      "san jose south\n",
      "sunnyvale\n",
      "inner sunset - UCSF\n",
      "richmond - seacliff\n",
      "SOMA - south beach\n",
      "dublin - pleasanton - livermore\n",
      "concord - pleasant hill - martinez\n",
      "hercules, pinole, san pablo, el sob\n",
      "corte madera\n"
     ]
    }
   ],
   "source": [
    "# replace any forward slashes in neighborhood name with a hyphen\n",
    "with open('rents_raw.csv', 'r') as csvfile:\n",
    "    my_csv = csv.reader(csvfile)\n",
    "    next(my_csv) #skip the header row\n",
    "    for row in my_csv:\n",
    "        print(row[0].replace('/', '-')) #use string.replace() method"
   ]
  },
  {
   "cell_type": "markdown",
   "metadata": {},
   "source": [
    "### Create a new data set with cleaned up variables"
   ]
  },
  {
   "cell_type": "code",
   "execution_count": 41,
   "metadata": {},
   "outputs": [],
   "source": [
    "# create a new function to convert bedrooms from a string to an int\n",
    "def extract_int_bedrooms(bedrooms):\n",
    "    if not bedrooms == '':\n",
    "        return int(float(bedrooms))\n",
    "    else:\n",
    "        return None"
   ]
  },
  {
   "cell_type": "code",
   "execution_count": 42,
   "metadata": {},
   "outputs": [],
   "source": [
    "# create a new function to replace forward slashes and commas with hyphens\n",
    "def clean_neighborhood(neighborhood_name):\n",
    "    # you can daisy chain multiple string.replace() methods\n",
    "    return neighborhood_name.replace('/', '-').replace(',', '')"
   ]
  },
  {
   "cell_type": "code",
   "execution_count": 43,
   "metadata": {},
   "outputs": [
    {
     "data": {
      "text/plain": [
       "[['foster city', 2495, 1],\n",
       " ['palo alto', 2695, None],\n",
       " ['brisbane', 3150, 2],\n",
       " ['palo alto', 2800, 2],\n",
       " ['san mateo', 2196, 1],\n",
       " ['santa clara', 3264, 3],\n",
       " ['san jose south', 2000, 2],\n",
       " ['sunnyvale', 4740, 3],\n",
       " ['inner sunset - UCSF', 3395, 2],\n",
       " ['richmond - seacliff', 2699, 1],\n",
       " ['SOMA - south beach', 3620, 1],\n",
       " ['dublin - pleasanton - livermore', 2025, 1],\n",
       " ['concord - pleasant hill - martinez', None, 2],\n",
       " ['hercules pinole san pablo el sob', 1795, 1],\n",
       " ['corte madera', 4299, 3]]"
      ]
     },
     "execution_count": 43,
     "metadata": {},
     "output_type": "execute_result"
    }
   ],
   "source": [
    "# clean the data set by calling the cleaning functions and save the results to variables\n",
    "rentals_cleaned = []\n",
    "with open('rents_raw.csv', 'r') as csvfile:\n",
    "    my_csv = csv.reader(csvfile)\n",
    "    next(my_csv)\n",
    "    for row in my_csv:\n",
    "        neighborhood_cleaned = clean_neighborhood(row[0])\n",
    "        price_cleaned = extract_int_price(row[1])\n",
    "        bedrooms_cleaned = extract_int_bedrooms(row[2])\n",
    "        rentals_cleaned.append([neighborhood_cleaned, price_cleaned, bedrooms_cleaned])      \n",
    "\n",
    "# display our nested lists of data        \n",
    "rentals_cleaned"
   ]
  },
  {
   "cell_type": "markdown",
   "metadata": {},
   "source": [
    "# Exercise: \n",
    "\n",
    "1. Calculate the price per square foot, and write the result to a new file.  \n",
    "2. Calculate the average price per square foot. \n",
    "3. Explain how you have dealt with missing data in 1 and 2, and how that might affect your result. "
   ]
  },
  {
   "cell_type": "markdown",
   "metadata": {},
   "source": [
    "## Answer 1"
   ]
  },
  {
   "cell_type": "code",
   "execution_count": 22,
   "metadata": {},
   "outputs": [],
   "source": [
    "import csv\n",
    "sqft = []\n",
    "prices = []\n",
    "title = []\n",
    "with open('rents_full.csv', 'r') as f:\n",
    "    reader = csv.reader(f)\n",
    "    next(f) \n",
    "    for row in reader:\n",
    "        if not row [3] == '':\n",
    "            if not row [4] == '':\n",
    "                sqft.append(float(row[3]))\n",
    "                prices.append(float(row[4]))\n",
    "                title.append (row [1])\n",
    "    #print (sqft)\n",
    "    #print (prices)\n",
    "        "
   ]
  },
  {
   "cell_type": "code",
   "execution_count": 46,
   "metadata": {},
   "outputs": [],
   "source": [
    "#p=prices_noheader\n",
    "#p = prices[1:]\n",
    "#s = sqft [1:]\n",
    "#print (p)\n",
    "#print (s)"
   ]
  },
  {
   "cell_type": "code",
   "execution_count": 23,
   "metadata": {},
   "outputs": [],
   "source": [
    "c = []\n",
    "for i in range (len(prices)):\n",
    "    r = prices [i]/sqft [i]\n",
    "    c.append (r) \n",
    "#print (c)    "
   ]
  },
  {
   "cell_type": "code",
   "execution_count": 24,
   "metadata": {},
   "outputs": [],
   "source": [
    "with open('price_per_sqft.csv', 'w', newline='') as f:\n",
    "    writer = csv.writer(f)\n",
    "    writer.writerow([\"Title\",\"price_per_sqft\"])\n",
    "    for i in range (len(title)):\n",
    "        l = [title[i],c[i]]\n",
    "        writer.writerow(l)"
   ]
  },
  {
   "cell_type": "markdown",
   "metadata": {},
   "source": [
    "## Answer 2"
   ]
  },
  {
   "cell_type": "code",
   "execution_count": 25,
   "metadata": {},
   "outputs": [
    {
     "name": "stdout",
     "output_type": "stream",
     "text": [
      "average price per square ft: 2.612413071812726\n"
     ]
    }
   ],
   "source": [
    "with open('price_per_sqft.csv', 'r') as f:\n",
    "    \n",
    "    \n",
    "    count = 0\n",
    "    cumulative_sum = 0\n",
    "   \n",
    "    reader = csv.reader(f)\n",
    "    next(f)\n",
    "    \n",
    "    for row in reader:   \n",
    "        price_per_sqft = float (row[1])\n",
    "        cumulative_sum = cumulative_sum + price_per_sqft\n",
    "        count = count + 1\n",
    "    \n",
    "    average_price = cumulative_sum / count\n",
    "    \n",
    "    \n",
    "    print('average price per square ft:', average_price)\n",
    "   "
   ]
  },
  {
   "cell_type": "markdown",
   "metadata": {},
   "source": [
    "## Answer 3"
   ]
  },
  {
   "cell_type": "markdown",
   "metadata": {},
   "source": [
    "In rent_full.csv file, the column \"prices\" does not have any missing data, but the column \"sqft\" has. Where the sqft was missing the prices per sqft of that apartment could not be calculated and that whole dataset (prices,sqft)was deleted. For question 2, it has more extreme effect, since the missing data is causing the average price per sqft to be erronous. "
   ]
  },
  {
   "cell_type": "code",
   "execution_count": null,
   "metadata": {},
   "outputs": [],
   "source": []
  }
 ],
 "metadata": {
  "anaconda-cloud": {},
  "kernelspec": {
   "display_name": "Python 3",
   "language": "python",
   "name": "python3"
  },
  "language_info": {
   "codemirror_mode": {
    "name": "ipython",
    "version": 3
   },
   "file_extension": ".py",
   "mimetype": "text/x-python",
   "name": "python",
   "nbconvert_exporter": "python",
   "pygments_lexer": "ipython3",
   "version": "3.6.5"
  }
 },
 "nbformat": 4,
 "nbformat_minor": 1
}
