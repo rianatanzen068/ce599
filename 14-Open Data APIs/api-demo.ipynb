{
 "cells": [
  {
   "cell_type": "markdown",
   "metadata": {},
   "source": [
    "# Working with Data APIs\n",
    "\n",
    "**Adapted from: Sam Maurer // maurer@berkeley.edu // Oct. 3, 2016**\n",
    "\n",
    "This notebook provides a demonstration of data-access APIs that operate over the web. See README.md for setup instructions.\n",
    "\n",
    "In Part 1, we'll load and parse results from an API feed of earthquake data.  \n",
    "In Part 2, we'll add query parameters to the workflow, using the Google Maps Geolocation API as an example.  \n",
    "In Part 3, we'll use an authenticated API to query public Twitter posts. "
   ]
  },
  {
   "cell_type": "markdown",
   "metadata": {},
   "source": [
    "# Part 1: Reading from an automated data feed\n",
    "\n",
    "### USGS real-time earthquake feeds\n",
    "\n",
    "This is an API for near-real-time data about earthquakes. Data is provided in JSON format over the web. No authentication is needed, and there's no way to customize the output. Instead, the API has a separate endpoint for each permutation of the data that users might want.\n",
    "\n",
    "**API documentation:**  \n",
    "http://earthquake.usgs.gov/earthquakes/feed/v1.0/geojson.php\n",
    "\n",
    "**Sample API endpoint, for magnitude 4.5+ earthquakes in past day:**  \n",
    "http://earthquake.usgs.gov/earthquakes/feed/v1.0/summary/4.5_day.geojson  \n"
   ]
  },
  {
   "cell_type": "code",
   "execution_count": 1,
   "metadata": {},
   "outputs": [],
   "source": [
    "%matplotlib inline\n",
    "\n",
    "import pandas as pd\n",
    "\n",
    "import json    # library for working with JSON-formatted text strings\n",
    "import requests  # library for accessing content from web URLs\n",
    "\n",
    "import pprint  # library for making Python data structures readable\n",
    "pp = pprint.PrettyPrinter()"
   ]
  },
  {
   "cell_type": "code",
   "execution_count": 2,
   "metadata": {
    "scrolled": true
   },
   "outputs": [
    {
     "name": "stdout",
     "output_type": "stream",
     "text": [
      "<class 'str'>\n"
     ]
    }
   ],
   "source": [
    "# download data on magnitude 2.5+ quakes from the past week\n",
    "\n",
    "endpoint_url = \"http://earthquake.usgs.gov/earthquakes/feed/v1.0/summary/2.5_week.geojson\"\n",
    "response = requests.get(endpoint_url)\n",
    "results = response.text\n",
    "\n",
    "# what is the data type of the results?\n",
    "print(type(results))"
   ]
  },
  {
   "cell_type": "code",
   "execution_count": 3,
   "metadata": {},
   "outputs": [
    {
     "data": {
      "text/plain": [
       "requests.models.Response"
      ]
     },
     "execution_count": 3,
     "metadata": {},
     "output_type": "execute_result"
    }
   ],
   "source": [
    "type (response)"
   ]
  },
  {
   "cell_type": "code",
   "execution_count": 9,
   "metadata": {},
   "outputs": [
    {
     "name": "stdout",
     "output_type": "stream",
     "text": [
      "<Response [200]>\n"
     ]
    }
   ],
   "source": [
    "print (response)"
   ]
  },
  {
   "cell_type": "code",
   "execution_count": 4,
   "metadata": {},
   "outputs": [
    {
     "ename": "SyntaxError",
     "evalue": "invalid syntax (<ipython-input-4-d3a67accd037>, line 1)",
     "output_type": "error",
     "traceback": [
      "\u001b[0;36m  File \u001b[0;32m\"<ipython-input-4-d3a67accd037>\"\u001b[0;36m, line \u001b[0;32m1\u001b[0m\n\u001b[0;31m    response.\u001b[0m\n\u001b[0m             ^\u001b[0m\n\u001b[0;31mSyntaxError\u001b[0m\u001b[0;31m:\u001b[0m invalid syntax\n"
     ]
    }
   ],
   "source": [
    "response."
   ]
  },
  {
   "cell_type": "code",
   "execution_count": 5,
   "metadata": {},
   "outputs": [
    {
     "name": "stdout",
     "output_type": "stream",
     "text": [
      "{\"type\":\"FeatureCollection\",\"metadata\":{\"generated\":1552016328000,\"url\":\"https://earthquake.usgs.gov/earthquakes/feed/v1.0/summary/2.5_week.geojson\",\"title\":\"USGS Magnitude 2.5+ Earthquakes, Past Week\",\"status\":200,\"api\":\"1.7.0\",\"count\":287},\"features\":[{\"type\":\"Feature\",\"properties\":{\"mag\":4.4,\"place\":\"159km NE of Yelizovo, Russia\",\"time\":1552013240930,\"updated\":1552015021040,\"tz\":720,\"url\":\"https://earthquake.usgs.gov/earthquakes/eventpage/us1000jc89\",\"detail\":\"https://earthquake.usgs.gov/eart\n"
     ]
    }
   ],
   "source": [
    "# print the first 500 characters to see a sample of the data\n",
    "\n",
    "print(results[:500])"
   ]
  },
  {
   "cell_type": "code",
   "execution_count": 6,
   "metadata": {},
   "outputs": [
    {
     "name": "stdout",
     "output_type": "stream",
     "text": [
      "<class 'dict'>\n"
     ]
    }
   ],
   "source": [
    "# it looks like the results are a string with JSON-formatted data inside\n",
    "\n",
    "# parse the string into a Python dictionary\n",
    "data = json.loads(results)\n",
    "\n",
    "print(type(data))"
   ]
  },
  {
   "cell_type": "code",
   "execution_count": 7,
   "metadata": {},
   "outputs": [
    {
     "name": "stdout",
     "output_type": "stream",
     "text": [
      "{'type': 'Feature', 'properties': {'mag': 4.4, 'place': '159km NE of Yelizovo, Russia', 'time': 1552013240930, 'updated': 1552015021040, 'tz': 720, 'url': 'https://earthquake.usgs.gov/earthquakes/eventpage/us1000jc89', 'detail': 'https://earthquake.usgs.gov/earthquakes/feed/v1.0/detail/us1000jc89.geojson', 'felt': None, 'cdi': None, 'mmi': None, 'alert': None, 'status': 'reviewed', 'tsunami': 0, 'sig': 298, 'net': 'us', 'code': '1000jc89', 'ids': ',us1000jc89,', 'sources': ',us,', 'types': ',geoserve,origin,phase-data,', 'nst': None, 'dmin': 1.495, 'rms': 0.67, 'gap': 116, 'magType': 'mb', 'type': 'earthquake', 'title': 'M 4.4 - 159km NE of Yelizovo, Russia'}, 'geometry': {'type': 'Point', 'coordinates': [159.7582, 54.363, 107.82]}, 'id': 'us1000jc89'}\n"
     ]
    }
   ],
   "source": [
    "# print the most recent quake\n",
    "\n",
    "quakes = data['features']\n",
    "print(quakes[0])"
   ]
  },
  {
   "cell_type": "code",
   "execution_count": 8,
   "metadata": {},
   "outputs": [
    {
     "name": "stdout",
     "output_type": "stream",
     "text": [
      "{'coordinates': [159.7582, 54.363, 107.82], 'type': 'Point'}\n",
      "{'alert': None,\n",
      " 'cdi': None,\n",
      " 'code': '1000jc89',\n",
      " 'detail': 'https://earthquake.usgs.gov/earthquakes/feed/v1.0/detail/us1000jc89.geojson',\n",
      " 'dmin': 1.495,\n",
      " 'felt': None,\n",
      " 'gap': 116,\n",
      " 'ids': ',us1000jc89,',\n",
      " 'mag': 4.4,\n",
      " 'magType': 'mb',\n",
      " 'mmi': None,\n",
      " 'net': 'us',\n",
      " 'nst': None,\n",
      " 'place': '159km NE of Yelizovo, Russia',\n",
      " 'rms': 0.67,\n",
      " 'sig': 298,\n",
      " 'sources': ',us,',\n",
      " 'status': 'reviewed',\n",
      " 'time': 1552013240930,\n",
      " 'title': 'M 4.4 - 159km NE of Yelizovo, Russia',\n",
      " 'tsunami': 0,\n",
      " 'type': 'earthquake',\n",
      " 'types': ',geoserve,origin,phase-data,',\n",
      " 'tz': 720,\n",
      " 'updated': 1552015021040,\n",
      " 'url': 'https://earthquake.usgs.gov/earthquakes/eventpage/us1000jc89'}\n"
     ]
    }
   ],
   "source": [
    "# print it more clearly\n",
    "\n",
    "pp.pprint(quakes[0]['geometry'])\n",
    "pp.pprint(quakes[0]['properties'])"
   ]
  },
  {
   "cell_type": "code",
   "execution_count": 10,
   "metadata": {
    "scrolled": true
   },
   "outputs": [
    {
     "name": "stdout",
     "output_type": "stream",
     "text": [
      "M 4.4 - 159km NE of Yelizovo, Russia\n",
      "M 5.4 - 43km SE of Taitung City, Taiwan\n",
      "M 4.3 - 46km SW of La Gomera, Guatemala\n",
      "M 3.2 - 34km WNW of Anaktuvuk Pass, Alaska\n",
      "M 2.7 - 8km WNW of Knik-Fairview, Alaska\n",
      "M 3.3 - 72km SSW of Kobuk, Alaska\n",
      "M 4.6 - 42km WNW of Abepura, Indonesia\n",
      "M 4.8 - 88km E of King Salmon, Alaska\n",
      "M 2.8 - 237km SE of Kodiak, Alaska\n",
      "M 3.5 - 97km N of Road Town, British Virgin Islands\n",
      "M 3.0 - 50km NNE of Punta Cana, Dominican Republic\n",
      "M 4.9 - Kuril Islands\n",
      "M 4.4 - 15km ESE of Dedang, China\n",
      "M 2.5 - 69km SSW of Kaktovik, Alaska\n",
      "M 2.9 - 68km SSW of Kobuk, Alaska\n",
      "M 4.7 - 90km W of False Pass, Alaska\n",
      "M 5.7 - 134km SSE of L'Esperance Rock, New Zealand\n",
      "M 3.3 - 74km S of Kobuk, Alaska\n",
      "M 3.0 - 23km SSW of Beaver, Utah\n",
      "M 5.7 - 138km WNW of Coquimbo, Chile\n",
      "M 5.5 - 252km SE of L'Esperance Rock, New Zealand\n",
      "M 3.2 - 31km NNE of Road Town, British Virgin Islands\n",
      "M 2.8 - 4km E of Blanchard, Oklahoma\n",
      "M 2.7 - 33km SW of Hayfork, CA\n",
      "M 4.9 - 118km SE of L'Esperance Rock, New Zealand\n",
      "M 2.7 - 10km WSW of Knik-Fairview, Alaska\n",
      "M 4.8 - Izu Islands, Japan region\n",
      "M 2.5 - 12km NNE of Ocotillo Wells, CA\n",
      "M 4.8 - 96km SW of `Ohonua, Tonga\n",
      "M 4.7 - 12km S of Roghun, Tajikistan\n",
      "M 5.1 - 91km SW of Atka, Alaska\n",
      "M 4.8 - 6km E of Fochville, South Africa\n",
      "M 2.8 - 68km S of Kobuk, Alaska\n",
      "M 4.6 - 37km SSE of Sindangsari, Indonesia\n",
      "M 3.2 - 64km SSW of Kobuk, Alaska\n",
      "M 2.6 - 6km N of Moreno Valley, CA\n",
      "M 3.3 - 12km S of Big Lake, Alaska\n",
      "M 4.4 - 12km N of Kashmor, Pakistan\n",
      "M 4.4 - 16km S of Coquimbo, Chile\n",
      "M 3.4 - 46km NE of Road Town, British Virgin Islands\n",
      "M 5.0 - 71km SSE of Putre, Chile\n",
      "M 2.7 - 76km S of Kobuk, Alaska\n",
      "M 4.4 - 22km SSW of Anelo, Argentina\n",
      "M 3.0 - 144km N of Arecibo, Puerto Rico\n",
      "M 2.7 - 7km ESE of Century, Florida\n",
      "M 5.2 - 37km NNE of Chongoyape, Peru\n",
      "M 2.7 - 65km NNW of San Antonio, Puerto Rico\n",
      "M 4.9 - Northern Mid-Atlantic Ridge\n",
      "M 4.9 - 132km SSW of Hengchun, Taiwan\n",
      "M 2.9 - 105km NNW of San Antonio, Puerto Rico\n",
      "M 2.6 - 44km N of Hatillo, Puerto Rico\n",
      "M 2.9 - 17km WSW of Miramichi, Canada\n",
      "M 5.0 - 109km SE of L'Esperance Rock, New Zealand\n",
      "M 2.9 - 76km SSW of Kobuk, Alaska\n",
      "M 3.1 - 36km ENE of Punta Cana, Dominican Republic\n",
      "M 2.7 - 7km NNW of Meadow Lakes, Alaska\n",
      "M 3.0 - 12km S of Esperanza, Puerto Rico\n",
      "M 5.0 - 155km WNW of Tobelo, Indonesia\n",
      "M 2.9 - 68km SSW of Kobuk, Alaska\n",
      "M 3.0 - 71km SSW of Kobuk, Alaska\n",
      "M 3.1 - 78km SSW of Kobuk, Alaska\n",
      "M 2.6 - 74km SSW of Kobuk, Alaska\n",
      "M 3.3 - 64km SSW of Kobuk, Alaska\n",
      "M 5.1 - 139km SE of L'Esperance Rock, New Zealand\n",
      "M 5.2 - 68km SSW of Kobuk, Alaska\n",
      "M 4.7 - 165km SW of Al Qunfidhah, Saudi Arabia\n",
      "M 2.5 - 7km NE of Harper, Kansas\n",
      "M 5.7 - 139km SE of L'Esperance Rock, New Zealand\n",
      "M 5.0 - 161km SSW of Al Qunfidhah, Saudi Arabia\n",
      "M 5.0 - Volcano Islands, Japan region\n",
      "M 4.9 - 40km S of Ofunato, Japan\n",
      "M 2.8 - 229km SE of Kodiak, Alaska\n",
      "M 5.6 - 15km NNE of Ambunti, Papua New Guinea\n",
      "M 4.0 - 29km SSE of Ofunato, Japan\n",
      "M 2.6 - 16km NNE of Coalgate, Oklahoma\n",
      "M 2.7 - 33km WNW of Kobuk, Alaska\n",
      "M 2.5 - 17km NNW of Anchorage, Alaska\n",
      "M 4.7 - 99km W of Nikol'skoye, Russia\n",
      "M 2.9 - 290km ESE of Kodiak, Alaska\n",
      "M 5.0 - 105km ESE of L'Esperance Rock, New Zealand\n",
      "M 6.4 - 116km SE of L'Esperance Rock, New Zealand\n",
      "M 3.0 - 2km NW of Vega Baja, Puerto Rico\n",
      "M 5.1 - 230km NNW of Tobelo, Indonesia\n",
      "M 4.3 - 38km ESE of Savannah Bight, Honduras\n",
      "M 2.7 - 17km SSW of Big Lake, Alaska\n",
      "M 4.1 - 122km SW of Mapastepec, Mexico\n",
      "M 4.3 - 119km SW of Kiska Volcano, Alaska\n",
      "M 4.7 - 134km WNW of Tobelo, Indonesia\n",
      "M 2.5 - 48km N of Valdez, Alaska\n",
      "M 2.6 - 63km NNE of Isabela, Puerto Rico\n",
      "M 5.6 - West Chile Rise\n",
      "M 2.8 - 27km WSW of Anchor Point, Alaska\n",
      "M 3.0 - 27km NNE of Punta Cana, Dominican Republic\n",
      "M 3.2 - 135km NNE of Vieques, Puerto Rico\n",
      "M 3.4 - 174km NNE of Road Town, British Virgin Islands\n",
      "M 4.7 - 61km SW of Ile Hunter, New Caledonia\n",
      "M 5.3 - Bouvet Island region\n",
      "M 2.5 - 26km SSW of Esperanza, Puerto Rico\n",
      "M 3.3 - 55km W of Anchor Point, Alaska\n",
      "M 4.5 - 1km NE of Barranquilla, Colombia\n",
      "M 3.3 - 8km E of La Romana, Dominican Republic\n",
      "M 3.3 - 29km NNE of Sutton-Alpine, Alaska\n",
      "M 2.9 - 76km NNW of San Antonio, Puerto Rico\n",
      "M 5.7 - 69km ENE of Hinatuan, Philippines\n",
      "M 4.4 - 10km NNW of Tunapuna, Trinidad and Tobago\n",
      "M 3.0 - 143km SE of Akutan, Alaska\n",
      "M 3.0 - 14km NE of Miches, Dominican Republic\n",
      "M 4.8 - 82km N of Oxapampa, Peru\n",
      "M 2.7 - 77km SW of Kaktovik, Alaska\n",
      "M 4.9 - 63km SW of Puerto Madero, Mexico\n",
      "M 3.4 - 7km NE of Maynardville, Tennessee\n",
      "M 2.9 - 11km SE of Punta Cana, Dominican Republic\n",
      "M 4.8 - 94km ENE of Amahai, Indonesia\n",
      "M 3.2 - 48km SE of Boca de Yuma, Dominican Republic\n",
      "M 4.5 - 85km E of Ndoi Island, Fiji\n",
      "M 4.6 - 55km SW of Puerto Madero, Mexico\n",
      "M 2.7 - 64km N of Tierras Nuevas Poniente, Puerto Rico\n",
      "M 4.2 - 39km SW of Puerto Madero, Mexico\n",
      "M 4.1 - 3km NNW of Grebocice, Poland\n",
      "M 4.4 - 43km WNW of Coquimbo, Chile\n",
      "M 5.4 - 76km WSW of Puerto Madero, Mexico\n",
      "M 4.4 - 42km W of `Alaqahdari-ye Kiran wa Munjan, Afghanistan\n",
      "M 3.4 - 70km S of Kobuk, Alaska\n",
      "M 4.2 - 46km WSW of Tual, Indonesia\n",
      "M 3.5 - 258km SE of Kodiak, Alaska\n",
      "M 4.8 - 64km SW of Puerto Madero, Mexico\n",
      "M 5.1 - 60km SW of Buldir Island, Alaska\n",
      "M 4.8 - 62km SW of Puerto Madero, Mexico\n",
      "M 2.9 - 8km WSW of Ely, Nevada\n",
      "M 2.8 - 72km SW of Redoubt Volcano, Alaska\n",
      "M 2.6 - 116km W of Petrolia, CA\n",
      "M 4.0 - Izu Islands, Japan region\n",
      "M 2.5 - 1km S of Bluffdale, Utah\n",
      "M 3.8 - 121km SSE of Yunaska Island, Alaska\n",
      "M 2.5 - 52km N of Culebra, Puerto Rico\n",
      "M 4.6 - 137km WSW of Banda Aceh, Indonesia\n",
      "M 2.7 - 54km SE of Punta Cana, Dominican Republic\n",
      "M 2.9 - 127km NNE of Vieques, Puerto Rico\n",
      "M 2.9 - 65km SSW of Kobuk, Alaska\n",
      "M 2.6 - 89km S of Kodiak Station, Alaska\n",
      "M 2.8 - 91km SSW of Kaktovik, Alaska\n",
      "M 4.5 - 150km NW of Olonkinbyen, Svalbard and Jan Mayen\n",
      "M 2.6 - 1km NW of Manhattan, Montana\n",
      "M 2.8 - 71km WSW of Alberto Oviedo Mota, B.C., MX\n",
      "M 4.4 - 57km ENE of Malili, Indonesia\n",
      "M 4.5 - 57km NNE of Yanqi, China\n",
      "M 2.9 - 67km SSW of Kobuk, Alaska\n",
      "M 2.9 - 7km N of Cuero, Texas\n",
      "M 2.5 - 14km N of Anchorage, Alaska\n",
      "M 4.8 - 44km ENE of Malili, Indonesia\n",
      "M 4.5 - 57km N of Dove Creek, Colorado\n",
      "M 3.3 - 64km ENE of Old Faithful Geyser, Wyoming\n",
      "M 4.4 - 29km NE of Madang, Papua New Guinea\n",
      "M 4.2 - 65km SW of Santiago Pinotepa Nacional, Mexico\n",
      "M 4.4 - 28km ENE of Madang, Papua New Guinea\n",
      "M 4.6 - 24km WNW of Ust'-Barguzin, Russia\n",
      "M 3.8 - 9km NW of Red Deer, Canada\n",
      "M 4.8 - 46km E of Madang, Papua New Guinea\n",
      "M 4.5 - 40km WNW of Pisco, Peru\n",
      "M 5.9 - 43km E of Madang, Papua New Guinea\n",
      "M 2.7 - 41km SSE of Pecos, Texas\n",
      "M 2.6 - 13km NNW of Alderson, West Virginia\n",
      "M 4.4 - 71km SSW of Sand Point, Alaska\n",
      "M 4.8 - 69km NNW of Visokoi Island, South Georgia and the South Sandwich Islands\n",
      "M 4.0 - 28km N of Melipilla, Chile\n",
      "M 2.7 - 67km ENE of Road Town, British Virgin Islands\n",
      "M 2.5 - 26km E of Honaunau-Napoopoo, Hawaii\n",
      "M 3.4 - 110km N of Road Town, British Virgin Islands\n",
      "M 3.4 - 129km N of Vieques, Puerto Rico\n",
      "M 3.0 - 80km N of Charlotte Amalie, U.S. Virgin Islands\n",
      "M 4.6 - 142km ENE of Neiafu, Tonga\n",
      "M 2.9 - 58km NNW of Road Town, British Virgin Islands\n",
      "M 2.8 - 68km WSW of Tok, Alaska\n",
      "M 4.6 - 49km NE of Palue, Indonesia\n",
      "M 2.5 - 6km ENE of Salina, Kansas\n",
      "M 2.8 - 90km NE of Tanana, Alaska\n",
      "M 2.6 - 100km NE of Circle, Alaska\n",
      "M 3.4 - 64km NNW of Road Town, British Virgin Islands\n",
      "M 2.9 - 38km ESE of Punta Cana, Dominican Republic\n",
      "M 2.6 - 11km SE of Leilani Estates, Hawaii\n",
      "M 4.4 - 60km NNE of Palue, Indonesia\n",
      "M 4.6 - 3km S of Asuncion Ixtaltepec, Mexico\n",
      "M 4.2 - 124km SE of Pondaguitan, Philippines\n",
      "M 3.0 - 14km SW of Enterprise, Utah\n",
      "M 2.5 - 1km SSW of Bayamon, Puerto Rico\n",
      "M 2.8 - 86km W of Petrolia, CA\n",
      "M 4.9 - 34km WNW of Zirandaro, Mexico\n",
      "M 3.1 - 6km WSW of Lower Lake, CA\n",
      "M 4.2 - 275km SE of Kodiak, Alaska\n",
      "M 2.9 - 68km SSW of Kobuk, Alaska\n",
      "M 4.9 - 55km W of Kasiguncu, Indonesia\n",
      "M 5.4 - 127km NE of L'Esperance Rock, New Zealand\n",
      "M 2.8 - 292km SE of Kodiak, Alaska\n",
      "M 2.8 - 41km NNW of Currant, Nevada\n",
      "M 3.4 - 299km SE of Kodiak, Alaska\n",
      "M 2.5 - 29km N of San Antonio, Puerto Rico\n",
      "M 2.7 - 43km NNW of Currant, Nevada\n",
      "M 4.3 - 32km SSE of Pucallpa, Peru\n",
      "M 2.6 - 79km NE of Miches, Dominican Republic\n",
      "M 4.5 - 25km NNW of Gandava, Pakistan\n",
      "M 3.8 - 8km WSW of Marigot, Saint Martin\n",
      "M 2.5 - 7km NE of Georgetown, Ohio\n",
      "M 2.7 - 4km NE of Waikoloa, Hawaii\n",
      "M 2.8 - 32km SSW of Butte, Alaska\n",
      "M 4.5 - 24km E of Pamandzi, Mayotte\n",
      "M 2.9 - 12km SSE of Volcano, Hawaii\n",
      "M 4.3 - 54km SSW of Masachapa, Nicaragua\n",
      "M 4.2 - 52km NNW of Atka, Alaska\n",
      "M 4.4 - 172km SSE of Sinabang, Indonesia\n",
      "M 2.5 - 51km SSE of King Salmon, Alaska\n",
      "M 2.7 - 41km WNW of Rincon, Puerto Rico\n",
      "M 3.5 - 28km E of Karibib, Namibia\n",
      "M 3.2 - 84km NNW of Charlotte Amalie, U.S. Virgin Islands\n",
      "M 2.6 - 75km S of Kobuk, Alaska\n",
      "M 2.9 - 10km NNW of Cholame, CA\n",
      "M 5.5 - 94km W of San Antonio, Chile\n",
      "M 2.7 - 2km WNW of Manhattan, Montana\n",
      "M 5.6 - 21km NW of Davila, Philippines\n",
      "M 2.5 - 149km NE of Nome, Alaska\n",
      "M 4.9 - 225km NNW of Farallon de Pajaros, Northern Mariana Islands\n",
      "M 3.0 - 124km S of Boca de Yuma, Dominican Republic\n",
      "M 5.3 - Izu Islands, Japan region\n",
      "M 2.7 - 63km SSW of Kaktovik, Alaska\n",
      "M 2.6 - 20km NNW of Brenas, Puerto Rico\n",
      "M 4.1 - 119km SSW of George Town, Cayman Islands\n",
      "M 4.8 - 69km NNW of Alotau, Papua New Guinea\n",
      "M 4.3 - 100km SE of San Felipe, Mexico\n",
      "M 2.8 - 134km ESE of Akutan, Alaska\n",
      "M 2.8 - 14km SW of Cherokee, Oklahoma\n",
      "M 3.1 - 76km NNW of San Antonio, Puerto Rico\n",
      "M 2.8 - 43km WNW of Petrolia, CA\n",
      "M 4.3 - 50km NNE of Kerman, Iran\n",
      "M 2.9 - 51km N of Isabela, Puerto Rico\n",
      "M 2.7 - 20km W of Petrolia, CA\n",
      "M 3.1 - 169km S of False Pass, Alaska\n",
      "M 2.8 - 13km SE of Road Town, British Virgin Islands\n",
      "M 4.6 - 183km NE of Kuril'sk, Russia\n",
      "M 4.5 - 85km W of San Antonio, Chile\n",
      "M 2.9 - 114km NNW of Arctic Village, Alaska\n",
      "M 4.9 - Northern Mid-Atlantic Ridge\n",
      "M 3.8 - 21km W of Petrolia, CA\n",
      "M 2.5 - 50km N of San Juan, Puerto Rico\n",
      "M 3.4 - 78km N of Charlotte Amalie, U.S. Virgin Islands\n",
      "M 6.0 - 191km SE of Nemuro, Japan\n",
      "M 2.6 - 16km WSW of Enterprise, Utah\n",
      "M 5.2 - 80km SSE of Panguna, Papua New Guinea\n",
      "M 2.6 - 8km SSE of Ridgely, Tennessee\n",
      "M 2.9 - 116km N of San Juan, Puerto Rico\n",
      "M 3.9 - 19km WSW of Valparaiso, Chile\n",
      "M 2.5 - 72km SSW of Kaktovik, Alaska\n",
      "M 3.2 - 114km ENE of Chernabura Island, Alaska\n",
      "M 4.5 - Owen Fracture Zone region\n",
      "M 2.8 - 246km SE of Kodiak, Alaska\n",
      "M 3.1 - 123km NNW of Arctic Village, Alaska\n",
      "M 4.8 - Izu Islands, Japan region\n",
      "M 2.8 - 76km N of San Juan, Puerto Rico\n",
      "M 4.6 - 114km N of Lanos, Indonesia\n",
      "M 4.8 - South of the Fiji Islands\n",
      "M 5.2 - 45km W of Ovalle, Chile\n",
      "M 2.5 - 12km S of Tres Pinos, CA\n",
      "M 3.2 - 262km SE of Kodiak, Alaska\n",
      "M 3.7 - 274km SSE of Kodiak, Alaska\n",
      "M 4.4 - 37km ESE of Hitachi, Japan\n",
      "M 4.6 - 2km WNW of Comillas Norte, Philippines\n",
      "M 4.2 - 214km NW of Attu Station, Alaska\n",
      "M 2.8 - 18km NW of Anchorage, Alaska\n",
      "M 4.8 - 212km N of Sola, Vanuatu\n",
      "M 2.5 - 84km WSW of Cordova, Alaska\n",
      "M 2.6 - 85km W of Willow, Alaska\n",
      "M 2.7 - 70km E of Sutton-Alpine, Alaska\n",
      "M 4.2 - 32km NE of Calama, Chile\n",
      "M 4.4 - 232km WNW of Saumlaki, Indonesia\n",
      "M 4.9 - 50km E of Santiago, Philippines\n",
      "M 7.0 - 27km NNE of Azangaro, Peru\n",
      "M 2.6 - 29km SE of Boca de Yuma, Dominican Republic\n",
      "M 4.7 - 101km SSW of Porgera, Papua New Guinea\n",
      "M 2.6 - 130km NW of Talkeetna, Alaska\n",
      "M 2.8 - 264km ESE of Kodiak, Alaska\n",
      "M 3.1 - 16km NNW of Anchorage, Alaska\n",
      "M 4.0 - 21km WSW of Silvassa, India\n",
      "M 3.3 - 277km SE of Kodiak, Alaska\n",
      "M 2.6 - 103km NE of Punta Cana, Dominican Republic\n",
      "M 4.8 - 5km W of Soweto, South Africa\n",
      "M 3.0 - 221km ESE of Kodiak, Alaska\n",
      "M 2.5 - 14km E of Petrolia, CA\n",
      "M 4.2 - 271km ESE of Kodiak, Alaska\n",
      "M 3.3 - 282km ESE of Kodiak, Alaska\n"
     ]
    }
   ],
   "source": [
    "# pull out the title from each earthquake listing\n",
    "\n",
    "for q in quakes:\n",
    "    print(q['properties']['title'])"
   ]
  },
  {
   "cell_type": "code",
   "execution_count": 11,
   "metadata": {},
   "outputs": [
    {
     "name": "stdout",
     "output_type": "stream",
     "text": [
      "287\n"
     ]
    }
   ],
   "source": [
    "# pull out magnitudes and depths into a Pandas dataframe, using\n",
    "# a more compact Python syntax for iterating through lists\n",
    "\n",
    "d = {'magnitude': [q['properties']['mag'] for q in quakes],\n",
    "     'depth': [q['geometry']['coordinates'][2] for q in quakes]}\n",
    "\n",
    "df = pd.DataFrame.from_dict(d)\n",
    "\n",
    "# how many earthquakes were loaded into the dataframe?\n",
    "print(len(df))"
   ]
  },
  {
   "cell_type": "code",
   "execution_count": 12,
   "metadata": {},
   "outputs": [
    {
     "name": "stdout",
     "output_type": "stream",
     "text": [
      "   magnitude   depth\n",
      "0        4.4  107.82\n",
      "1        5.4   10.00\n",
      "2        4.3   10.00\n",
      "3        3.2   15.00\n",
      "4        2.7   20.30\n"
     ]
    }
   ],
   "source": [
    "# print the first few lines of data\n",
    "\n",
    "print(df.head())"
   ]
  },
  {
   "cell_type": "code",
   "execution_count": 13,
   "metadata": {},
   "outputs": [
    {
     "name": "stdout",
     "output_type": "stream",
     "text": [
      "        magnitude       depth\n",
      "count  287.000000  287.000000\n",
      "mean     3.714251   42.385889\n",
      "std      1.014688   70.627156\n",
      "min      2.450000   -0.450000\n",
      "25%      2.800000   10.000000\n",
      "50%      3.350000   15.900000\n",
      "75%      4.600000   48.000000\n",
      "max      7.000000  558.630000\n"
     ]
    }
   ],
   "source": [
    "# print some descriptive statistics\n",
    "\n",
    "print(df.describe())"
   ]
  },
  {
   "cell_type": "code",
   "execution_count": 14,
   "metadata": {},
   "outputs": [
    {
     "data": {
      "text/plain": [
       "<matplotlib.axes._subplots.AxesSubplot at 0x115d94b38>"
      ]
     },
     "execution_count": 14,
     "metadata": {},
     "output_type": "execute_result"
    },
    {
     "data": {
      "image/png": "[encoded data removed]",
      "text/plain": [
       "<Figure size 432x288 with 1 Axes>"
      ]
     },
     "metadata": {
      "needs_background": "light"
     },
     "output_type": "display_data"
    }
   ],
   "source": [
    "# plot the depth vs. magnitude\n",
    "\n",
    "df.plot(x='magnitude', y='depth', kind='scatter')"
   ]
  },
  {
   "cell_type": "code",
   "execution_count": 15,
   "metadata": {},
   "outputs": [
    {
     "name": "stdout",
     "output_type": "stream",
     "text": [
      "file saved\n"
     ]
    }
   ],
   "source": [
    "# save the dataframe to disk\n",
    "\n",
    "df.to_csv('usgs_earthquake_data.csv')\n",
    "\n",
    "print('file saved')"
   ]
  },
  {
   "cell_type": "code",
   "execution_count": 16,
   "metadata": {},
   "outputs": [
    {
     "name": "stdout",
     "output_type": "stream",
     "text": [
      "   magnitude   depth\n",
      "0        4.4  107.82\n",
      "1        5.4   10.00\n",
      "2        4.3   10.00\n",
      "3        3.2   15.00\n",
      "4        2.7   20.30\n"
     ]
    },
    {
     "name": "stderr",
     "output_type": "stream",
     "text": [
      "/anaconda3/lib/python3.7/site-packages/ipykernel_launcher.py:3: FutureWarning: from_csv is deprecated. Please use read_csv(...) instead. Note that some of the default arguments are different, so please refer to the documentation for from_csv when changing your function calls\n",
      "  This is separate from the ipykernel package so we can avoid doing imports until\n"
     ]
    }
   ],
   "source": [
    "# read it back later\n",
    "\n",
    "new_df = pd.DataFrame.from_csv('usgs_earthquake_data.csv')\n",
    "\n",
    "print(new_df.head())"
   ]
  },
  {
   "cell_type": "code",
   "execution_count": null,
   "metadata": {},
   "outputs": [],
   "source": []
  },
  {
   "cell_type": "code",
   "execution_count": null,
   "metadata": {},
   "outputs": [],
   "source": []
  },
  {
   "cell_type": "code",
   "execution_count": null,
   "metadata": {},
   "outputs": [],
   "source": []
  },
  {
   "cell_type": "markdown",
   "metadata": {},
   "source": [
    "# Part 2: Querying an API endpoint\n",
    "\n",
    "### Google Maps Geocoding API\n",
    "\n",
    "Google has lots of APIs that let you access its services through code instead of through GUI apps. This one from Google Maps lets you look up the latitude-longitude coordinates of street addresses.\n",
    "\n",
    "It works similarly to the earthquakes example, but with query parameters added to the URL endpoint!\n",
    "\n",
    "**API documentation:**  \n",
    "https://developers.google.com/maps/documentation/geocoding/intro\n",
    "\n",
    "**API endpoint:**  \n",
    "https://maps.googleapis.com/maps/api/geocode/json\n",
    "\n",
    "**API endpoint with query parameters:**  \n",
    "https://maps.googleapis.com/maps/api/geocode/json?address=Wurster+Hall"
   ]
  },
  {
   "cell_type": "code",
   "execution_count": 17,
   "metadata": {},
   "outputs": [],
   "source": [
    "import json    # library for working with JSON-formatted text strings\n",
    "import requests  # library for accessing content from web URLs\n",
    "\n",
    "import pprint  # library for making Python data structures readable\n",
    "pp = pprint.PrettyPrinter()"
   ]
  },
  {
   "cell_type": "code",
   "execution_count": 18,
   "metadata": {},
   "outputs": [
    {
     "name": "stdout",
     "output_type": "stream",
     "text": [
      "https://maps.googleapis.com/maps/api/geocode/json?address=young+library+uky\n"
     ]
    }
   ],
   "source": [
    "# we have to encode the search query so that it can be passed as a URL, \n",
    "# with spaces and other special characters removed\n",
    "\n",
    "endpoint = 'https://maps.googleapis.com/maps/api/geocode/json'\n",
    "\n",
    "params = {'address': 'young library uky'}\n",
    "\n",
    "url = requests.Request('GET', endpoint, params=params).prepare().url\n",
    "print(url)"
   ]
  },
  {
   "cell_type": "code",
   "execution_count": 19,
   "metadata": {},
   "outputs": [
    {
     "name": "stdout",
     "output_type": "stream",
     "text": [
      "{'error_message': 'You must use an API key to authenticate each request to Google Maps Platform APIs. For additional information, please refer to http://g.co/dev/maps-no-account', 'results': [], 'status': 'REQUEST_DENIED'}\n"
     ]
    }
   ],
   "source": [
    "# download and parse the results\n",
    "\n",
    "response = requests.get(url)\n",
    "results = response.text\n",
    "data = json.loads(results)\n",
    "\n",
    "print(data)"
   ]
  },
  {
   "cell_type": "code",
   "execution_count": 20,
   "metadata": {},
   "outputs": [
    {
     "name": "stdout",
     "output_type": "stream",
     "text": [
      "{'error_message': 'You must use an API key to authenticate each request to '\n",
      "                  'Google Maps Platform APIs. For additional information, '\n",
      "                  'please refer to http://g.co/dev/maps-no-account',\n",
      " 'results': [],\n",
      " 'status': 'REQUEST_DENIED'}\n"
     ]
    }
   ],
   "source": [
    "# print it more nicely\n",
    "\n",
    "pp.pprint(data)"
   ]
  },
  {
   "cell_type": "code",
   "execution_count": 24,
   "metadata": {},
   "outputs": [],
   "source": [
    "# pull out the lat-lon coordinates\n",
    "\n",
    "for r in data['results']:\n",
    "    coords = r['geometry']['location']\n",
    "    print(coords['lat'], coords['lng'])"
   ]
  },
  {
   "cell_type": "markdown",
   "metadata": {},
   "source": [
    "### Exercises\n",
    "\n",
    "1. Search for some other addresses or landmarks!\n",
    "2. Take a look at the [API documentation](https://developers.google.com/maps/documentation/geocoding/intro). What are the usage limits?"
   ]
  },
  {
   "cell_type": "code",
   "execution_count": null,
   "metadata": {},
   "outputs": [],
   "source": []
  },
  {
   "cell_type": "code",
   "execution_count": null,
   "metadata": {},
   "outputs": [],
   "source": []
  },
  {
   "cell_type": "code",
   "execution_count": null,
   "metadata": {},
   "outputs": [],
   "source": []
  },
  {
   "cell_type": "markdown",
   "metadata": {},
   "source": [
    "# Part 3: Querying an API with authentication\n",
    "\n",
    "### Twitter REST APIs\n",
    "\n",
    "Twitter's APIs also operate over the web, but they require a back-and-forth authentication process at the beginning of each connection. It's easier to have a Python library handle this than to create the query URLs ourselves.\n",
    "\n",
    "The Twitter \"REST\" APIs perform stand-alone operations: you submit a query and receive results, like in earlier examples. ([REST](https://en.wikipedia.org/wiki/Representational_state_transfer) is a particular set of guidelines that many APIs follow.) Twitter also has a \"streaming\" API that continues sending results in real time until you disconnect.\n",
    "\n",
    "**API documentation:**  \n",
    "https://dev.twitter.com/rest/public  \n",
    "https://dev.twitter.com/overview/api/tweets\n",
    "\n",
    "**Documentation for the Python helper library**:  \n",
    "https://github.com/geduldig/TwitterAPI"
   ]
  },
  {
   "cell_type": "code",
   "execution_count": 29,
   "metadata": {},
   "outputs": [],
   "source": [
    "from TwitterAPI import TwitterAPI\n",
    "\n",
    "import pprint  # library for making Python data structures readable\n",
    "pp = pprint.PrettyPrinter()"
   ]
  },
  {
   "cell_type": "code",
   "execution_count": 30,
   "metadata": {},
   "outputs": [],
   "source": [
    "# import API credentials from keys.py file in the\n",
    "# same directory as this notebook\n",
    "\n",
    "from keys import *"
   ]
  },
  {
   "cell_type": "code",
   "execution_count": 31,
   "metadata": {},
   "outputs": [
    {
     "name": "stdout",
     "output_type": "stream",
     "text": [
      "Connection is set up but not tested\n"
     ]
    }
   ],
   "source": [
    "# set up an API connection using credentials from the keys file\n",
    "\n",
    "api = TwitterAPI(consumer_key, consumer_secret, \n",
    "                 access_token, access_token_secret)\n",
    "\n",
    "print(\"Connection is set up but not tested\")"
   ]
  },
  {
   "cell_type": "markdown",
   "metadata": {},
   "source": [
    "### Making a simple data request"
   ]
  },
  {
   "cell_type": "code",
   "execution_count": 32,
   "metadata": {},
   "outputs": [
    {
     "name": "stdout",
     "output_type": "stream",
     "text": [
      "RT @KentuckyMBB: \"You either lose or you're lucky to get out of alive.\"\n",
      "\n",
      "That was what faced in the latest stop on #TheJourney. \n",
      "\n",
      "We got ou…\n"
     ]
    }
   ],
   "source": [
    "# most recent tweet from @UCBerkeley's timeline\n",
    "\n",
    "endpoint = 'statuses/user_timeline'\n",
    "params = {\n",
    "    'screen_name': 'UKAthletics', \n",
    "    'count': 1\n",
    "}\n",
    "r = api.request(endpoint, params)\n",
    "\n",
    "for tweet in r.get_iterator():\n",
    "    print(tweet['text'])"
   ]
  },
  {
   "cell_type": "code",
   "execution_count": 33,
   "metadata": {},
   "outputs": [
    {
     "name": "stdout",
     "output_type": "stream",
     "text": [
      "{'contributors': None,\n",
      " 'coordinates': None,\n",
      " 'created_at': 'Fri Mar 08 00:49:58 +0000 2019',\n",
      " 'entities': {'hashtags': [{'indices': [115, 126], 'text': 'TheJourney'}],\n",
      "              'symbols': [],\n",
      "              'urls': [],\n",
      "              'user_mentions': [{'id': 35583547,\n",
      "                                 'id_str': '35583547',\n",
      "                                 'indices': [3, 15],\n",
      "                                 'name': 'Kentucky Basketball',\n",
      "                                 'screen_name': 'KentuckyMBB'}]},\n",
      " 'favorite_count': 0,\n",
      " 'favorited': False,\n",
      " 'geo': None,\n",
      " 'id': 1103820115546644482,\n",
      " 'id_str': '1103820115546644482',\n",
      " 'in_reply_to_screen_name': None,\n",
      " 'in_reply_to_status_id': None,\n",
      " 'in_reply_to_status_id_str': None,\n",
      " 'in_reply_to_user_id': None,\n",
      " 'in_reply_to_user_id_str': None,\n",
      " 'is_quote_status': False,\n",
      " 'lang': 'en',\n",
      " 'place': None,\n",
      " 'retweet_count': 138,\n",
      " 'retweeted': False,\n",
      " 'retweeted_status': {'contributors': None,\n",
      "                      'coordinates': None,\n",
      "                      'created_at': 'Fri Mar 08 00:49:40 +0000 2019',\n",
      "                      'entities': {'hashtags': [{'indices': [98, 109],\n",
      "                                                 'text': 'TheJourney'}],\n",
      "                                   'symbols': [],\n",
      "                                   'urls': [{'display_url': 'twitter.com/i/web/status/1…',\n",
      "                                             'expanded_url': 'https://twitter.com/i/web/status/1103820041953464320',\n",
      "                                             'indices': [117, 140],\n",
      "                                             'url': 'https://t.co/25snBxQbS0'}],\n",
      "                                   'user_mentions': []},\n",
      "                      'favorite_count': 581,\n",
      "                      'favorited': False,\n",
      "                      'geo': None,\n",
      "                      'id': 1103820041953464320,\n",
      "                      'id_str': '1103820041953464320',\n",
      "                      'in_reply_to_screen_name': None,\n",
      "                      'in_reply_to_status_id': None,\n",
      "                      'in_reply_to_status_id_str': None,\n",
      "                      'in_reply_to_user_id': None,\n",
      "                      'in_reply_to_user_id_str': None,\n",
      "                      'is_quote_status': False,\n",
      "                      'lang': 'en',\n",
      "                      'place': None,\n",
      "                      'possibly_sensitive': False,\n",
      "                      'retweet_count': 138,\n",
      "                      'retweeted': False,\n",
      "                      'source': '<a href=\"https://studio.twitter.com\" '\n",
      "                                'rel=\"nofollow\">Twitter Media Studio</a>',\n",
      "                      'text': '\"You either lose or you\\'re lucky to get out of '\n",
      "                              'alive.\"\\n'\n",
      "                              '\\n'\n",
      "                              'That was what faced in the latest stop on '\n",
      "                              '#TheJourney. \\n'\n",
      "                              '\\n'\n",
      "                              'We… https://t.co/25snBxQbS0',\n",
      "                      'truncated': True,\n",
      "                      'user': {'contributors_enabled': False,\n",
      "                               'created_at': 'Sun Apr 26 22:25:01 +0000 2009',\n",
      "                               'default_profile': False,\n",
      "                               'default_profile_image': False,\n",
      "                               'description': 'The official Twitter account '\n",
      "                                              'for the eight-time national '\n",
      "                                              \"champion Kentucky men's \"\n",
      "                                              'basketball team, the winningest '\n",
      "                                              'program in college basketball. '\n",
      "                                              '#DreamBIG',\n",
      "                               'entities': {'description': {'urls': []},\n",
      "                                            'url': {'urls': [{'display_url': 'ukathletics.com',\n",
      "                                                              'expanded_url': 'http://ukathletics.com',\n",
      "                                                              'indices': [0,\n",
      "                                                                          23],\n",
      "                                                              'url': 'https://t.co/kMUdWRDbJ6'}]}},\n",
      "                               'favourites_count': 387,\n",
      "                               'follow_request_sent': False,\n",
      "                               'followers_count': 769470,\n",
      "                               'following': False,\n",
      "                               'friends_count': 628,\n",
      "                               'geo_enabled': True,\n",
      "                               'has_extended_profile': False,\n",
      "                               'id': 35583547,\n",
      "                               'id_str': '35583547',\n",
      "                               'is_translation_enabled': False,\n",
      "                               'is_translator': False,\n",
      "                               'lang': 'en',\n",
      "                               'listed_count': 1145,\n",
      "                               'location': 'Rupp Arena',\n",
      "                               'name': 'Kentucky Basketball',\n",
      "                               'notifications': False,\n",
      "                               'profile_background_color': '0A11B8',\n",
      "                               'profile_background_image_url': 'http://abs.twimg.com/images/themes/theme1/bg.png',\n",
      "                               'profile_background_image_url_https': 'https://abs.twimg.com/images/themes/theme1/bg.png',\n",
      "                               'profile_background_tile': False,\n",
      "                               'profile_banner_url': 'https://pbs.twimg.com/profile_banners/35583547/1502115999',\n",
      "                               'profile_image_url': 'http://pbs.twimg.com/profile_images/875807773619040257/Z-qMKViO_normal.jpg',\n",
      "                               'profile_image_url_https': 'https://pbs.twimg.com/profile_images/875807773619040257/Z-qMKViO_normal.jpg',\n",
      "                               'profile_link_color': '060404',\n",
      "                               'profile_sidebar_border_color': 'FFFFFF',\n",
      "                               'profile_sidebar_fill_color': 'FFFFFF',\n",
      "                               'profile_text_color': '060404',\n",
      "                               'profile_use_background_image': True,\n",
      "                               'protected': False,\n",
      "                               'screen_name': 'KentuckyMBB',\n",
      "                               'statuses_count': 33008,\n",
      "                               'time_zone': None,\n",
      "                               'translator_type': 'none',\n",
      "                               'url': 'https://t.co/kMUdWRDbJ6',\n",
      "                               'utc_offset': None,\n",
      "                               'verified': True}},\n",
      " 'source': '<a href=\"http://twitter.com/download/iphone\" '\n",
      "           'rel=\"nofollow\">Twitter for iPhone</a>',\n",
      " 'text': 'RT @KentuckyMBB: \"You either lose or you\\'re lucky to get out of '\n",
      "         'alive.\"\\n'\n",
      "         '\\n'\n",
      "         'That was what faced in the latest stop on #TheJourney. \\n'\n",
      "         '\\n'\n",
      "         'We got ou…',\n",
      " 'truncated': False,\n",
      " 'user': {'contributors_enabled': False,\n",
      "          'created_at': 'Tue Mar 17 18:41:37 +0000 2009',\n",
      "          'default_profile': False,\n",
      "          'default_profile_image': False,\n",
      "          'description': 'The official Twitter account of the University of '\n",
      "                         'Kentucky Athletics Department. Facebook: Kentucky '\n",
      "                         'Wildcats; Instagram: ukathletics',\n",
      "          'entities': {'description': {'urls': []},\n",
      "                       'url': {'urls': [{'display_url': 'ukathletics.com',\n",
      "                                         'expanded_url': 'http://www.ukathletics.com/',\n",
      "                                         'indices': [0, 23],\n",
      "                                         'url': 'https://t.co/Zqcn6uhNdp'}]}},\n",
      "          'favourites_count': 4791,\n",
      "          'follow_request_sent': False,\n",
      "          'followers_count': 330053,\n",
      "          'following': False,\n",
      "          'friends_count': 869,\n",
      "          'geo_enabled': True,\n",
      "          'has_extended_profile': False,\n",
      "          'id': 24929053,\n",
      "          'id_str': '24929053',\n",
      "          'is_translation_enabled': False,\n",
      "          'is_translator': False,\n",
      "          'lang': 'en',\n",
      "          'listed_count': 1369,\n",
      "          'location': 'Lexington, Ky.',\n",
      "          'name': 'Kentucky Athletics',\n",
      "          'notifications': False,\n",
      "          'profile_background_color': '000738',\n",
      "          'profile_background_image_url': 'http://abs.twimg.com/images/themes/theme9/bg.gif',\n",
      "          'profile_background_image_url_https': 'https://abs.twimg.com/images/themes/theme9/bg.gif',\n",
      "          'profile_background_tile': False,\n",
      "          'profile_banner_url': 'https://pbs.twimg.com/profile_banners/24929053/1536335213',\n",
      "          'profile_image_url': 'http://pbs.twimg.com/profile_images/875802157605408769/-DftO40K_normal.jpg',\n",
      "          'profile_image_url_https': 'https://pbs.twimg.com/profile_images/875802157605408769/-DftO40K_normal.jpg',\n",
      "          'profile_link_color': '084AE7',\n",
      "          'profile_sidebar_border_color': 'FFFFFF',\n",
      "          'profile_sidebar_fill_color': 'FFFFFF',\n",
      "          'profile_text_color': '787878',\n",
      "          'profile_use_background_image': True,\n",
      "          'protected': False,\n",
      "          'screen_name': 'UKAthletics',\n",
      "          'statuses_count': 47012,\n",
      "          'time_zone': None,\n",
      "          'translator_type': 'none',\n",
      "          'url': 'https://t.co/Zqcn6uhNdp',\n",
      "          'utc_offset': None,\n",
      "          'verified': True}}\n"
     ]
    }
   ],
   "source": [
    "# what other data is there?\n",
    "\n",
    "pp.pprint(tweet)"
   ]
  },
  {
   "cell_type": "markdown",
   "metadata": {},
   "source": [
    "### Other API endpoints allow different types of searches"
   ]
  },
  {
   "cell_type": "code",
   "execution_count": 34,
   "metadata": {},
   "outputs": [
    {
     "name": "stdout",
     "output_type": "stream",
     "text": [
      "Nerlens and Kanter going at it. Cat on Cat crime. #OKCvsPOR #BBN #NBATwitter\n",
      "\n",
      "RT @CameronThreatt: Blessed to receive an offer from The University Of Kentucky #BBN🔵⚪️ https://t.co/lM25fLA9Cy\n",
      "\n",
      "RT @MetzCamfield: Just noticed Mizzou creeped into the top 75 of the NET rankings. That means @KentuckyMBB now currently has the most Q1 vi…\n",
      "\n",
      "RT @tjdadonn: blessed to receive an offer from the University of Kentucky! #BBN https://t.co/1Z2hcAc7aC\n",
      "\n",
      "RT @Kentucky_Hockey: 🔵⚪️⚫️#BBN⚫️⚪️🔵\n",
      "\n",
      "Another one? Yuuuuup!\n",
      "\n",
      "BBN! Here is another commitment, Colby Couture, @ColbyCouture9. \n",
      "\n",
      "At 5’10, 220l…\n",
      "\n"
     ]
    }
   ],
   "source": [
    "# search for public tweets about #BBN\n",
    "\n",
    "endpoint = 'search/tweets'\n",
    "params = {\n",
    "    'q': '#BBN', \n",
    "    'count': 5\n",
    "}\n",
    "r = api.request(endpoint, params)\n",
    "\n",
    "for tweet in r.get_iterator():\n",
    "    print(tweet['text'] + '\\n')"
   ]
  },
  {
   "cell_type": "code",
   "execution_count": 38,
   "metadata": {},
   "outputs": [
    {
     "name": "stdout",
     "output_type": "stream",
     "text": [
      "RT @AITCofficial: Yuvashree 2 Arpan: Giving a new direction to Bangla’s youth\n",
      "\n",
      "‘যুবশ্রী ২ অর্পণ’ - যুবক-যুবতীদের স্বনির্ভর করার লক্ষ্যে নতু…\n",
      "\n",
      "RT @AITCofficial: Yuvashree 2 Arpan: Giving a new direction to Bangla’s youth\n",
      "\n",
      "‘যুবশ্রী ২ অর্পণ’ - যুবক-যুবতীদের স্বনির্ভর করার লক্ষ্যে নতু…\n",
      "\n",
      "RT @AITCofficial: Yuvashree 2 Arpan: Giving a new direction to Bangla’s youth\n",
      "\n",
      "‘যুবশ্রী ২ অর্পণ’ - যুবক-যুবতীদের স্বনির্ভর করার লক্ষ্যে নতু…\n",
      "\n",
      "RT @AITCofficial: Yuvashree 2 Arpan: Giving a new direction to Bangla’s youth\n",
      "\n",
      "‘যুবশ্রী ২ অর্পণ’ - যুবক-যুবতীদের স্বনির্ভর করার লক্ষ্যে নতু…\n",
      "\n",
      "RT @AITCofficial: Yuvashree 2 Arpan: Giving a new direction to Bangla’s youth\n",
      "\n",
      "‘যুবশ্রী ২ অর্পণ’ - যুবক-যুবতীদের স্বনির্ভর করার লক্ষ্যে নতু…\n",
      "\n"
     ]
    }
   ],
   "source": [
    "# search for public tweets in Hindi\n",
    "\n",
    "endpoint = 'search/tweets'\n",
    "params = {\n",
    "    'q': '*', \n",
    "    'lang': 'bengali', \n",
    "    'count': 5\n",
    "} \n",
    "r = api.request(endpoint, params)\n",
    "\n",
    "for tweet in r.get_iterator():\n",
    "    print(tweet['text'] + '\\n')"
   ]
  },
  {
   "cell_type": "code",
   "execution_count": 39,
   "metadata": {},
   "outputs": [
    {
     "name": "stdout",
     "output_type": "stream",
     "text": [
      "@ColeBoyle3 hey lil buddy.... why ya hiding over there??? https://t.co/BwOBqgVenZ\n",
      "\n",
      "I would like to scream\n",
      "\n",
      "Students Make the Best Teachers! New BLOG! Students Make the Best Teachers  https://t.co/h4fau911BK\n",
      "\n",
      "I hope Dr. Everett McCorvey sings the national anthem Saturday at Rupp Arena. He would be perfect for UK Senior Day… https://t.co/4TVMbwQBS0\n",
      "\n",
      "Madama Butterfly 🦋\n",
      "#Opera #GNO @ Singletary Center for the Arts https://t.co/XgxZUlBBB5\n",
      "\n",
      "hbd justin bieber ( michael_rutherford_ ) hope you have the worst day ever cause you deserve it 🥴 swipe for a surpr… https://t.co/cKupMId15q\n",
      "\n",
      ".@universityofky can you please turn on the heat in the graduate student study? It's hard to write dissertations wi… https://t.co/bzFJSE26lc\n",
      "\n"
     ]
    }
   ],
   "source": [
    "# search for public tweets geotagged near the UK campus\n",
    "\n",
    "endpoint = 'search/tweets'\n",
    "params = {\n",
    "    'q': '*', \n",
    "    'geocode': '38.034,-84.500,0.5km', \n",
    "    'count': 10\n",
    "} \n",
    "r = api.request(endpoint, params)\n",
    "\n",
    "for tweet in r.get_iterator():\n",
    "    print(tweet['text'] + '\\n')"
   ]
  },
  {
   "cell_type": "markdown",
   "metadata": {},
   "source": [
    "### Exercises\n",
    "\n",
    "1. Try some different search queries!\n",
    "2. Display some more data fields in addition to the tweet text"
   ]
  },
  {
   "cell_type": "markdown",
   "metadata": {},
   "source": [
    "## Answer 1"
   ]
  },
  {
   "cell_type": "markdown",
   "metadata": {},
   "source": [
    "### 1. Tweets from \"The Avengers\" (Language: English)"
   ]
  },
  {
   "cell_type": "code",
   "execution_count": 42,
   "metadata": {},
   "outputs": [
    {
     "name": "stdout",
     "output_type": "stream",
     "text": [
      "Game of Thrones and Avengers: Endgame after they both take over the month of April https://t.co/pvJEJ8skMS\n",
      "\n",
      "@zyxeol IS IT NOT UNFAIR??! WHEN HE LEFT THE AVENGERS HE WAS STUCK WITH NATASHA, WHAT KIND OF FREEDOM IS THAT??!!!!\n",
      "\n",
      "we saw how Fury loses his eye, where the name 'Avengers' came from, how Paulsen came to be, and how the tessaract came into Shield's hands\n",
      "\n",
      "RT @ghostofthor: carol: can u get me some water\n",
      "\n",
      "the avengers: we’re the avengers \n",
      "\n",
      "carol: ok the avengers can u get me some water\n",
      "\n"
     ]
    }
   ],
   "source": [
    "endpoint = 'search/tweets'\n",
    "params = {\n",
    "    'q': 'The Avengers',\n",
    "    'lang': 'en', \n",
    "    'count': 5\n",
    "}\n",
    "r = api.request(endpoint, params)\n",
    "\n",
    "for tweet in r.get_iterator():\n",
    "    print(tweet['text'] + '\\n')"
   ]
  },
  {
   "cell_type": "markdown",
   "metadata": {},
   "source": [
    "###  2. Tweets from \"Game of Thrones\" (Language: English)"
   ]
  },
  {
   "cell_type": "code",
   "execution_count": 43,
   "metadata": {},
   "outputs": [
    {
     "name": "stdout",
     "output_type": "stream",
     "text": [
      "RT @frankpallotta: HBO has put together a whole GAME OF THRONES blood drive event at #SXSW called “Bleed for the Throne” in partnership wit…\n",
      "\n",
      "if you pass the game of thrones intro.........electric chair\n",
      "\n",
      "I wish I started watching Game of Thrones sooner, lol\n",
      "\n",
      "RT @cinelinx: ICYMI: The first real #GameOfThrones Season 8 trailer has arrived. https://t.co/F3hHvkfu5d https://t.co/2w3r6qqhZo\n",
      "\n",
      "RT @kuntgaroo: I think im that 1% that hasn't watched game of thrones yet\n",
      "\n"
     ]
    }
   ],
   "source": [
    "endpoint = 'search/tweets'\n",
    "params = {\n",
    "    'q': 'Game of Thrones',\n",
    "    'lang': 'en', \n",
    "    'count': 5\n",
    "}\n",
    "r = api.request(endpoint, params)\n",
    "\n",
    "for tweet in r.get_iterator():\n",
    "    print(tweet['text'] + '\\n')"
   ]
  },
  {
   "cell_type": "markdown",
   "metadata": {},
   "source": [
    "### 3. Tweets from \"Bangladesh Cricket\" (Language: Bengali)"
   ]
  },
  {
   "cell_type": "code",
   "execution_count": 44,
   "metadata": {},
   "outputs": [
    {
     "name": "stdout",
     "output_type": "stream",
     "text": [
      "বাংলাদেশের ক্রিকেটারদের অবিস্মরণীয় ৭টি পারফর্মেন্স | Bangladesh Cricket | DhumroJal | ধুম্রজাল https://t.co/ueVWnJdjgU\n",
      "\n",
      "মুশফিককে ছাড়াই মাঠে নামছে বাংলাদেশ... https://t.co/5JEDqiG3gs\n",
      "\n",
      "প্রথমেই অস্ট্রেলিয়া, দ্বিতীয় ভারত, দশে বাংলাদেশ... https://t.co/GmmhizBrr1\n",
      "\n",
      "নিউজিল্যান্ডের কাছে হার মেনেছে বাংলাদেশের বোলাররা – Bangladesh Cricket News https://t.co/9kM8nDtYTg https://t.co/AUVvKVhLta\n",
      "\n",
      "আশা করা হয়েছিলো দ্বিতীয় টেস্টে মুশিকে পাওয়া যাবে তবে শেষ মূহুর্তে এসে আশাহত। দ্বিতীয় টেস্টে ও থাকছে না মুশি😭 #Bangladesh #Cricket\n",
      "\n"
     ]
    }
   ],
   "source": [
    "endpoint = 'search/tweets'\n",
    "params = {\n",
    "    'q': 'Bangladesh Cricket',\n",
    "    'lang': 'bn', \n",
    "    'count': 5\n",
    "}\n",
    "r = api.request(endpoint, params)\n",
    "\n",
    "for tweet in r.get_iterator():\n",
    "    print(tweet['text'] + '\\n')"
   ]
  },
  {
   "cell_type": "markdown",
   "metadata": {},
   "source": [
    "## Answer 2: Adding more data fields"
   ]
  },
  {
   "cell_type": "code",
   "execution_count": 97,
   "metadata": {},
   "outputs": [
    {
     "name": "stdout",
     "output_type": "stream",
     "text": [
      "ID:1103887259697213440\n",
      "see u soon https://t.co/AfUjENh7rl\n",
      "\n",
      "Source: <a href=\"http://twitter.com/download/iphone\" rel=\"nofollow\">Twitter for iPhone</a>\n",
      "Likes:15723\n",
      "Retweets:1750\n",
      "\n",
      "\n",
      "ID:1103883569095569408\n",
      "The window to launch a mission to the outer planets is closing. In order to steal some of Jupiter’s massive gravita… https://t.co/pZ8v7Ix1M8\n",
      "\n",
      "Source: <a href=\"http://www.socialflow.com\" rel=\"nofollow\">SocialFlow</a>\n",
      "Likes:17\n",
      "Retweets:14\n",
      "\n",
      "\n",
      "ID:1103882570373029889\n",
      "👀 https://t.co/NvZnZId2No\n",
      "\n",
      "Source: <a href=\"http://twitter.com\" rel=\"nofollow\">Twitter Web Client</a>\n",
      "Likes:2365\n",
      "Retweets:368\n",
      "\n",
      "\n",
      "ID:1103882032227278848\n",
      "The Stud Is Staying Put for Two More Years https://t.co/ZxRwccmTr3 https://t.co/S3yhg5TObD\n",
      "\n",
      "Source: <a href=\"https://about.twitter.com/products/tweetdeck\" rel=\"nofollow\">TweetDeck</a>\n",
      "Likes:5\n",
      "Retweets:0\n",
      "\n",
      "\n"
     ]
    }
   ],
   "source": [
    "## Data fields:\n",
    "#id_str: The string representation of the unique identifier for this Tweet.\n",
    "#source: Utility used to post the Tweet, as an HTML-formatted string. \n",
    "#favorite_count: Indicates approximately how many times this Tweet has been liked by Twitter users. \n",
    "#retweet_count: Number of times this Tweet has been retweeted.\n",
    "\n",
    "endpoint = 'statuses/home_timeline'\n",
    "params = {\n",
    "    'q': 'Game of Thrones',\n",
    "    'lang': 'en',\n",
    "    'count': 5\n",
    "}\n",
    "r = api.request(endpoint, params)\n",
    "\n",
    "for item in r.get_iterator():\n",
    "    print('ID:' + str (item['id_str']))\n",
    "    print(item['text'] + '\\n')\n",
    "    print('Source: ' + (item['source']))\n",
    "    print('Likes:' + str (item['favorite_count'] ))\n",
    "    print('Retweets:' + str (item['retweet_count'] ))\n",
    "    print ('\\n')"
   ]
  },
  {
   "cell_type": "code",
   "execution_count": 98,
   "metadata": {},
   "outputs": [
    {
     "name": "stdout",
     "output_type": "stream",
     "text": [
      "Fri Mar 08 05:36:03 +0000 2019\n",
      "Houston, TX, United States\n",
      "@KiingJohnDoe 😑\n",
      "\n",
      "Fri Mar 08 05:36:03 +0000 2019\n",
      "Mersin, Türkiye, Türkiye\n",
      "Şuna inanmak lazımdır ki, dünya üzerinde gördüğümüz her şey kadının eseridir.” Mustafa Kemal Atatürk #8MartDünyaEmekçiKadınlarGünü\n",
      "\n",
      "Fri Mar 08 05:36:03 +0000 2019\n",
      "Toronto, Ontario, Canada\n",
      "@yanberg_8 we have a good defense, but the offense has zero play-makers in the passing game outside of Walker and D… https://t.co/cgloWUPckg\n",
      "\n",
      "Fri Mar 08 05:36:02 +0000 2019\n",
      "Costa Mesa, CA, United States\n",
      "Wow. Look what someone did for me https://t.co/YQpUwwmoNi\n",
      "\n",
      "Fri Mar 08 05:36:03 +0000 2019\n",
      "Bern, Schweiz, Schweiz\n",
      "#Weltfrauentag @Bern_Stadt @Hauptstadt_CH Wir sehen uns um 12 Uhr im Kino 🎥 🎞 Rex! Freue mich auf den int.… https://t.co/xI74STIRot\n",
      "\n",
      "Fri Mar 08 05:36:03 +0000 2019\n",
      "Durban, South Africa, South Africa\n",
      "🔥🔥😩\n",
      "\n",
      "Fri Mar 08 05:36:03 +0000 2019\n",
      "Surigao City, Caraga, Republic of the Philippines\n",
      "@lalaybenedicto Noooo @charlie\n",
      "\n",
      "Fri Mar 08 05:36:03 +0000 2019\n",
      "Bhiwani, India, India\n",
      "@JioCare To learn to lie is to learn from you because there is no limit to telling lies. Whenever someone complains… https://t.co/qRH6ZJkNiS\n",
      "\n",
      "Fri Mar 08 05:36:03 +0000 2019\n",
      "Visalia, CA, United States\n",
      "No negativity😴\n",
      "\n",
      "Fri Mar 08 05:36:03 +0000 2019\n",
      "Chula Vista, CA, United States\n",
      "🏡 W/ @AnnaG_Brown (@ Rancho del Rey in Chula Vista, CA) https://t.co/GNsXDMIN46\n",
      "\n",
      "Fri Mar 08 05:36:03 +0000 2019\n",
      "Zapopan, Jalisco, México\n",
      "True dat   ✋🏻😌🤚🏻\n",
      "\n",
      "Fri Mar 08 05:36:03 +0000 2019\n",
      "石川 金沢市, 日本\n",
      "中国だしね\n",
      "\n",
      "Fri Mar 08 05:36:03 +0000 2019\n",
      "Davao City, Davao Region, Republic of the Philippines\n",
      "Sabi nila madalas daw masaktan ang mababait tanong ko lang\n",
      "\n",
      "Ganun ba ko kabait para saktan ng Paulit-ulit😔😔😔\n",
      "\n",
      "Fri Mar 08 05:36:03 +0000 2019\n",
      "Quevedo, Ecuador, Ecuador\n",
      "🌺Cuídala... 8M https://t.co/vswkE6qCIs\n",
      "\n",
      "Fri Mar 08 05:36:03 +0000 2019\n",
      "Seaford, NY, United States\n",
      "@noah_rockmore U were almost defeated by an apple how do u feel\n",
      "\n",
      "Fri Mar 08 05:36:03 +0000 2019\n",
      "Fairfield, CA, United States\n",
      "@Alyssa_Milano I’m totally fighting government corruption myself, but Dems are worse than Republicans at this point… https://t.co/RxheRHjGBZ\n",
      "\n",
      "Fri Mar 08 05:36:03 +0000 2019\n",
      "Yalova, Türkiye, Türkiye\n",
      "@CEVDETKAVLAK Evet emekci kadinlar sadece 🤝👍\n",
      "\n",
      "Fri Mar 08 05:36:03 +0000 2019\n",
      "沖縄 那覇市, 日本\n",
      "@urukyun そうそう！覚えてるのは1990年ぐらいが宇宙版、92年以降はホテル版、95年以降がプラネットパラダイスで98年は動物編だった気がします。\n",
      "\n",
      "またあの頃の楽しい「英語であそぼ」に戻って欲しいですね。\n",
      "\n",
      "Fri Mar 08 05:36:03 +0000 2019\n",
      "Davao City, Davao Region, Republic of the Philippines\n",
      "\"Siya parin bai\" charowt\n",
      "\n",
      "Fri Mar 08 05:36:03 +0000 2019\n",
      "愛知 高浜市, 日本\n",
      "@kusunoki__mayu 👼💞おハロー👋😃☀きゃんち波✨🐗🌸🌸\n",
      "\n",
      "Fri Mar 08 05:36:03 +0000 2019\n",
      "Cuauhtémoc, Distrito Federal, México\n",
      "Tremenda recomendación, éntrenle\n",
      "\n",
      "Fri Mar 08 05:36:03 +0000 2019\n",
      "Albuquerque, NM, United States\n",
      "MIGUEL ORTEGA &amp; TONY ALVA BOUT TO BOMB THIS DITCH ALL THE WAY SKATEBOARD ARMY GANGSTERS WORLDWIDE OG SOLDIERS @ Kac… https://t.co/T2vFERKZvn\n",
      "\n"
     ]
    }
   ],
   "source": [
    "# Twitter limits simultaneous connections to the streaming API,\n",
    "# so this part may not work using the demo API keys during class\n",
    "\n",
    "endpoint = 'statuses/filter'\n",
    "params = {'locations': '-180,-90,180,90'}\n",
    "r = api.request(endpoint, params)\n",
    "LIMIT = 20\n",
    "\n",
    "# 'enumerate' lets us count tweets as we receive them\n",
    "\n",
    "for i, tweet in enumerate(r.get_iterator()):\n",
    "    print(tweet['created_at'])\n",
    "    print(tweet['place']['full_name'] + ', ' + tweet['place']['country'])\n",
    "    print(tweet['text'] + '\\n')\n",
    "    if (i > LIMIT): break\n",
    "\n",
    "# close the streaming connection\n",
    "r.close()"
   ]
  },
  {
   "cell_type": "code",
   "execution_count": null,
   "metadata": {},
   "outputs": [],
   "source": []
  },
  {
   "cell_type": "code",
   "execution_count": null,
   "metadata": {},
   "outputs": [],
   "source": []
  },
  {
   "cell_type": "markdown",
   "metadata": {},
   "source": [
    "### Exercises for the remainder of class\n",
    "\n",
    "1. Make a scatter plot of the lat-lon coordinates of earthquakes.  \n",
    "   &nbsp;\n",
    "   \n",
    "2. Using the geocoding example as a starting point, try searching the Google Maps Directions API or Elevation API instead. Descriptions are in the [API documentation](https://developers.google.com/maps/documentation/geocoding/intro).  \n",
    "   &nbsp;\n",
    "   "
   ]
  },
  {
   "cell_type": "markdown",
   "metadata": {},
   "source": [
    "## Answer 1: Scatter plot of the lat-lon coordinates of earthquakes"
   ]
  },
  {
   "cell_type": "code",
   "execution_count": 104,
   "metadata": {},
   "outputs": [
    {
     "name": "stdout",
     "output_type": "stream",
     "text": [
      "Number of Earthquakes: 287\n"
     ]
    }
   ],
   "source": [
    "# latitudes and longitudes are pulled out into a Pandas dataframe, using a compact Python syntax for iterating through lists\n",
    "\n",
    "d = {'latitude': [q['geometry']['coordinates'] [0] for q in quakes],\n",
    "     'longitude': [q['geometry']['coordinates'][1] for q in quakes]}\n",
    "\n",
    "df = pd.DataFrame.from_dict(d)\n",
    "\n",
    "# Number of earthquakes in the dataframe\n",
    "print('Number of Earthquakes: ' + str (len(df)))"
   ]
  },
  {
   "cell_type": "code",
   "execution_count": 103,
   "metadata": {},
   "outputs": [
    {
     "data": {
      "text/html": [
       "<div>\n",
       "<style scoped>\n",
       "    .dataframe tbody tr th:only-of-type {\n",
       "        vertical-align: middle;\n",
       "    }\n",
       "\n",
       "    .dataframe tbody tr th {\n",
       "        vertical-align: top;\n",
       "    }\n",
       "\n",
       "    .dataframe thead th {\n",
       "        text-align: right;\n",
       "    }\n",
       "</style>\n",
       "<table border=\"1\" class=\"dataframe\">\n",
       "  <thead>\n",
       "    <tr style=\"text-align: right;\">\n",
       "      <th></th>\n",
       "      <th>latitude</th>\n",
       "      <th>longitude</th>\n",
       "    </tr>\n",
       "  </thead>\n",
       "  <tbody>\n",
       "    <tr>\n",
       "      <th>0</th>\n",
       "      <td>159.7582</td>\n",
       "      <td>54.3630</td>\n",
       "    </tr>\n",
       "    <tr>\n",
       "      <th>1</th>\n",
       "      <td>121.4121</td>\n",
       "      <td>22.4546</td>\n",
       "    </tr>\n",
       "    <tr>\n",
       "      <th>2</th>\n",
       "      <td>-91.2955</td>\n",
       "      <td>13.7428</td>\n",
       "    </tr>\n",
       "  </tbody>\n",
       "</table>\n",
       "</div>"
      ],
      "text/plain": [
       "   latitude  longitude\n",
       "0  159.7582    54.3630\n",
       "1  121.4121    22.4546\n",
       "2  -91.2955    13.7428"
      ]
     },
     "execution_count": 103,
     "metadata": {},
     "output_type": "execute_result"
    }
   ],
   "source": [
    "df [:3]"
   ]
  },
  {
   "cell_type": "code",
   "execution_count": 105,
   "metadata": {},
   "outputs": [
    {
     "data": {
      "text/plain": [
       "<matplotlib.axes._subplots.AxesSubplot at 0x11673fb38>"
      ]
     },
     "execution_count": 105,
     "metadata": {},
     "output_type": "execute_result"
    },
    {
     "data": {
      "image/png": "[encoded data removed]",
      "text/plain": [
       "<Figure size 432x288 with 1 Axes>"
      ]
     },
     "metadata": {
      "needs_background": "light"
     },
     "output_type": "display_data"
    }
   ],
   "source": [
    "# Scatter plot of the lat-lon coordinates of earthquakes\n",
    "\n",
    "df.plot(x='latitude', y='longitude', kind='scatter')"
   ]
  },
  {
   "cell_type": "markdown",
   "metadata": {
    "collapsed": true
   },
   "source": [
    "### For next time...\n",
    "\n",
    "In the next class, you will try out another API that provides data you're interested in. You will be asked to try connecting to it using Python code, and performing some basic operations on the data.  To come prepared for next time, please explore some of the transportation-related APIs that may be valuable, and choose one that is of interest to you.\n",
    "\n",
    "Here are a a few to get you started. \n",
    "\n",
    "Public Transit\n",
    "https://www.programmableweb.com/news/how-smart-cities-are-using-apis-public-transport-apis/2014/05/22\n",
    "\n",
    "Long-Distance Travel\n",
    "http://www.olery.com/blog/the-best-travel-apis-discover-contribute/ \n",
    "\n",
    "Transportation\n",
    "https://www.programmableweb.com/category/transportation/api\n",
    "\n",
    "\n",
    "Start by reading the public transit page, because that provides a nice overview of the types of applications out there, and some of the issues in using them.  These lessons often apply to traffic and transportation more generally.  \n",
    "\n",
    "Keep in mind that there are a number of different organizations that provide APIs, with different motivations and quality of what is provided.  If it is a private company, what is their business model?  What is the underlying source of the data, and what might that imply about how representative it is of the real world?  There is a ton of stuff out there.  How do we go about sorting out what is useful to us and what is now.  Spend some time exploring these and thinking about these questions.  \n"
   ]
  },
  {
   "cell_type": "code",
   "execution_count": null,
   "metadata": {},
   "outputs": [],
   "source": []
  },
  {
   "cell_type": "code",
   "execution_count": null,
   "metadata": {},
   "outputs": [],
   "source": []
  }
 ],
 "metadata": {
  "anaconda-cloud": {},
  "kernelspec": {
   "display_name": "Python 3",
   "language": "python",
   "name": "python3"
  },
  "language_info": {
   "codemirror_mode": {
    "name": "ipython",
    "version": 3
   },
   "file_extension": ".py",
   "mimetype": "text/x-python",
   "name": "python",
   "nbconvert_exporter": "python",
   "pygments_lexer": "ipython3",
   "version": "3.7.1"
  }
 },
 "nbformat": 4,
 "nbformat_minor": 1
}
